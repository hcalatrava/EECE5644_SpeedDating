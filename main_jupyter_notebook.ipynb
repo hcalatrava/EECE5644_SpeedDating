{
 "cells": [
  {
   "cell_type": "code",
   "execution_count": 1,
   "metadata": {
    "collapsed": true
   },
   "outputs": [],
   "source": [
    "from main import read_dataset\n",
    "dataset = read_dataset()"
   ]
  },
  {
   "cell_type": "code",
   "execution_count": 10,
   "outputs": [
    {
     "data": {
      "text/plain": "   iid   id  gender  idg  condtn  wave  round  position  positin1  order  ...  \\\n0    1  1.0       0    1       1     1     10         7       NaN      4  ...   \n1    1  1.0       0    1       1     1     10         7       NaN      3  ...   \n2    1  1.0       0    1       1     1     10         7       NaN     10  ...   \n3    1  1.0       0    1       1     1     10         7       NaN      5  ...   \n4    1  1.0       0    1       1     1     10         7       NaN      7  ...   \n5    1  1.0       0    1       1     1     10         7       NaN      6  ...   \n6    1  1.0       0    1       1     1     10         7       NaN      1  ...   \n7    1  1.0       0    1       1     1     10         7       NaN      2  ...   \n8    1  1.0       0    1       1     1     10         7       NaN      8  ...   \n9    1  1.0       0    1       1     1     10         7       NaN      9  ...   \n\n   attr3_3  sinc3_3  intel3_3  fun3_3  amb3_3  attr5_3  sinc5_3  intel5_3  \\\n0      5.0      7.0       7.0     7.0     7.0      NaN      NaN       NaN   \n1      5.0      7.0       7.0     7.0     7.0      NaN      NaN       NaN   \n2      5.0      7.0       7.0     7.0     7.0      NaN      NaN       NaN   \n3      5.0      7.0       7.0     7.0     7.0      NaN      NaN       NaN   \n4      5.0      7.0       7.0     7.0     7.0      NaN      NaN       NaN   \n5      5.0      7.0       7.0     7.0     7.0      NaN      NaN       NaN   \n6      5.0      7.0       7.0     7.0     7.0      NaN      NaN       NaN   \n7      5.0      7.0       7.0     7.0     7.0      NaN      NaN       NaN   \n8      5.0      7.0       7.0     7.0     7.0      NaN      NaN       NaN   \n9      5.0      7.0       7.0     7.0     7.0      NaN      NaN       NaN   \n\n   fun5_3  amb5_3  \n0     NaN     NaN  \n1     NaN     NaN  \n2     NaN     NaN  \n3     NaN     NaN  \n4     NaN     NaN  \n5     NaN     NaN  \n6     NaN     NaN  \n7     NaN     NaN  \n8     NaN     NaN  \n9     NaN     NaN  \n\n[10 rows x 195 columns]",
      "text/html": "<div>\n<style scoped>\n    .dataframe tbody tr th:only-of-type {\n        vertical-align: middle;\n    }\n\n    .dataframe tbody tr th {\n        vertical-align: top;\n    }\n\n    .dataframe thead th {\n        text-align: right;\n    }\n</style>\n<table border=\"1\" class=\"dataframe\">\n  <thead>\n    <tr style=\"text-align: right;\">\n      <th></th>\n      <th>iid</th>\n      <th>id</th>\n      <th>gender</th>\n      <th>idg</th>\n      <th>condtn</th>\n      <th>wave</th>\n      <th>round</th>\n      <th>position</th>\n      <th>positin1</th>\n      <th>order</th>\n      <th>...</th>\n      <th>attr3_3</th>\n      <th>sinc3_3</th>\n      <th>intel3_3</th>\n      <th>fun3_3</th>\n      <th>amb3_3</th>\n      <th>attr5_3</th>\n      <th>sinc5_3</th>\n      <th>intel5_3</th>\n      <th>fun5_3</th>\n      <th>amb5_3</th>\n    </tr>\n  </thead>\n  <tbody>\n    <tr>\n      <th>0</th>\n      <td>1</td>\n      <td>1.0</td>\n      <td>0</td>\n      <td>1</td>\n      <td>1</td>\n      <td>1</td>\n      <td>10</td>\n      <td>7</td>\n      <td>NaN</td>\n      <td>4</td>\n      <td>...</td>\n      <td>5.0</td>\n      <td>7.0</td>\n      <td>7.0</td>\n      <td>7.0</td>\n      <td>7.0</td>\n      <td>NaN</td>\n      <td>NaN</td>\n      <td>NaN</td>\n      <td>NaN</td>\n      <td>NaN</td>\n    </tr>\n    <tr>\n      <th>1</th>\n      <td>1</td>\n      <td>1.0</td>\n      <td>0</td>\n      <td>1</td>\n      <td>1</td>\n      <td>1</td>\n      <td>10</td>\n      <td>7</td>\n      <td>NaN</td>\n      <td>3</td>\n      <td>...</td>\n      <td>5.0</td>\n      <td>7.0</td>\n      <td>7.0</td>\n      <td>7.0</td>\n      <td>7.0</td>\n      <td>NaN</td>\n      <td>NaN</td>\n      <td>NaN</td>\n      <td>NaN</td>\n      <td>NaN</td>\n    </tr>\n    <tr>\n      <th>2</th>\n      <td>1</td>\n      <td>1.0</td>\n      <td>0</td>\n      <td>1</td>\n      <td>1</td>\n      <td>1</td>\n      <td>10</td>\n      <td>7</td>\n      <td>NaN</td>\n      <td>10</td>\n      <td>...</td>\n      <td>5.0</td>\n      <td>7.0</td>\n      <td>7.0</td>\n      <td>7.0</td>\n      <td>7.0</td>\n      <td>NaN</td>\n      <td>NaN</td>\n      <td>NaN</td>\n      <td>NaN</td>\n      <td>NaN</td>\n    </tr>\n    <tr>\n      <th>3</th>\n      <td>1</td>\n      <td>1.0</td>\n      <td>0</td>\n      <td>1</td>\n      <td>1</td>\n      <td>1</td>\n      <td>10</td>\n      <td>7</td>\n      <td>NaN</td>\n      <td>5</td>\n      <td>...</td>\n      <td>5.0</td>\n      <td>7.0</td>\n      <td>7.0</td>\n      <td>7.0</td>\n      <td>7.0</td>\n      <td>NaN</td>\n      <td>NaN</td>\n      <td>NaN</td>\n      <td>NaN</td>\n      <td>NaN</td>\n    </tr>\n    <tr>\n      <th>4</th>\n      <td>1</td>\n      <td>1.0</td>\n      <td>0</td>\n      <td>1</td>\n      <td>1</td>\n      <td>1</td>\n      <td>10</td>\n      <td>7</td>\n      <td>NaN</td>\n      <td>7</td>\n      <td>...</td>\n      <td>5.0</td>\n      <td>7.0</td>\n      <td>7.0</td>\n      <td>7.0</td>\n      <td>7.0</td>\n      <td>NaN</td>\n      <td>NaN</td>\n      <td>NaN</td>\n      <td>NaN</td>\n      <td>NaN</td>\n    </tr>\n    <tr>\n      <th>5</th>\n      <td>1</td>\n      <td>1.0</td>\n      <td>0</td>\n      <td>1</td>\n      <td>1</td>\n      <td>1</td>\n      <td>10</td>\n      <td>7</td>\n      <td>NaN</td>\n      <td>6</td>\n      <td>...</td>\n      <td>5.0</td>\n      <td>7.0</td>\n      <td>7.0</td>\n      <td>7.0</td>\n      <td>7.0</td>\n      <td>NaN</td>\n      <td>NaN</td>\n      <td>NaN</td>\n      <td>NaN</td>\n      <td>NaN</td>\n    </tr>\n    <tr>\n      <th>6</th>\n      <td>1</td>\n      <td>1.0</td>\n      <td>0</td>\n      <td>1</td>\n      <td>1</td>\n      <td>1</td>\n      <td>10</td>\n      <td>7</td>\n      <td>NaN</td>\n      <td>1</td>\n      <td>...</td>\n      <td>5.0</td>\n      <td>7.0</td>\n      <td>7.0</td>\n      <td>7.0</td>\n      <td>7.0</td>\n      <td>NaN</td>\n      <td>NaN</td>\n      <td>NaN</td>\n      <td>NaN</td>\n      <td>NaN</td>\n    </tr>\n    <tr>\n      <th>7</th>\n      <td>1</td>\n      <td>1.0</td>\n      <td>0</td>\n      <td>1</td>\n      <td>1</td>\n      <td>1</td>\n      <td>10</td>\n      <td>7</td>\n      <td>NaN</td>\n      <td>2</td>\n      <td>...</td>\n      <td>5.0</td>\n      <td>7.0</td>\n      <td>7.0</td>\n      <td>7.0</td>\n      <td>7.0</td>\n      <td>NaN</td>\n      <td>NaN</td>\n      <td>NaN</td>\n      <td>NaN</td>\n      <td>NaN</td>\n    </tr>\n    <tr>\n      <th>8</th>\n      <td>1</td>\n      <td>1.0</td>\n      <td>0</td>\n      <td>1</td>\n      <td>1</td>\n      <td>1</td>\n      <td>10</td>\n      <td>7</td>\n      <td>NaN</td>\n      <td>8</td>\n      <td>...</td>\n      <td>5.0</td>\n      <td>7.0</td>\n      <td>7.0</td>\n      <td>7.0</td>\n      <td>7.0</td>\n      <td>NaN</td>\n      <td>NaN</td>\n      <td>NaN</td>\n      <td>NaN</td>\n      <td>NaN</td>\n    </tr>\n    <tr>\n      <th>9</th>\n      <td>1</td>\n      <td>1.0</td>\n      <td>0</td>\n      <td>1</td>\n      <td>1</td>\n      <td>1</td>\n      <td>10</td>\n      <td>7</td>\n      <td>NaN</td>\n      <td>9</td>\n      <td>...</td>\n      <td>5.0</td>\n      <td>7.0</td>\n      <td>7.0</td>\n      <td>7.0</td>\n      <td>7.0</td>\n      <td>NaN</td>\n      <td>NaN</td>\n      <td>NaN</td>\n      <td>NaN</td>\n      <td>NaN</td>\n    </tr>\n  </tbody>\n</table>\n<p>10 rows × 195 columns</p>\n</div>"
     },
     "execution_count": 10,
     "metadata": {},
     "output_type": "execute_result"
    }
   ],
   "source": [
    "# viewing first 10 rows of dataset\n",
    "dataset.head(10)"
   ],
   "metadata": {
    "collapsed": false
   }
  },
  {
   "cell_type": "code",
   "execution_count": 4,
   "outputs": [
    {
     "data": {
      "text/plain": "8378"
     },
     "execution_count": 4,
     "metadata": {},
     "output_type": "execute_result"
    }
   ],
   "source": [
    "# get # rows in dataset\n",
    "len(dataset.index)"
   ],
   "metadata": {
    "collapsed": false
   }
  },
  {
   "cell_type": "code",
   "execution_count": 5,
   "outputs": [
    {
     "data": {
      "text/plain": "551"
     },
     "execution_count": 5,
     "metadata": {},
     "output_type": "execute_result"
    }
   ],
   "source": [
    "# get # of unique participants\n",
    "df_no_dupes = dataset.drop_duplicates(subset=['iid'])\n",
    "len(df_no_dupes)"
   ],
   "metadata": {
    "collapsed": false
   }
  },
  {
   "cell_type": "code",
   "execution_count": 6,
   "outputs": [
    {
     "data": {
      "text/plain": "26"
     },
     "execution_count": 6,
     "metadata": {},
     "output_type": "execute_result"
    }
   ],
   "source": [
    "# Average age of participants\n",
    "int(df_no_dupes.drop_duplicates(subset=['iid'])[\"age\"].mean())"
   ],
   "metadata": {
    "collapsed": false
   }
  }
 ],
 "metadata": {
  "kernelspec": {
   "display_name": "Python 3",
   "language": "python",
   "name": "python3"
  },
  "language_info": {
   "codemirror_mode": {
    "name": "ipython",
    "version": 2
   },
   "file_extension": ".py",
   "mimetype": "text/x-python",
   "name": "python",
   "nbconvert_exporter": "python",
   "pygments_lexer": "ipython2",
   "version": "2.7.6"
  }
 },
 "nbformat": 4,
 "nbformat_minor": 0
}
