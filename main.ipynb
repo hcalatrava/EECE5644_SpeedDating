{
  "cells": [
    {
      "cell_type": "markdown",
      "metadata": {
        "id": "R88Ms0MTi0Ma"
      },
      "source": [
        "# Speed Dating Data Analysis\n"
      ]
    },
    {
      "cell_type": "markdown",
      "metadata": {
        "id": "TUoI2S7Bi6iR"
      },
      "source": [
        "# Part 0: Setup Google Drive Environment / Data Collection"
      ]
    },
    {
      "cell_type": "code",
      "execution_count": null,
      "metadata": {
        "id": "neechzbWi7rV"
      },
      "outputs": [],
      "source": [
        "# install pydrive to load data\n",
        "!pip install -U -q PyDrive\n",
        "\n",
        "from pydrive.auth import GoogleAuth\n",
        "from pydrive.drive import GoogleDrive\n",
        "from google.colab import auth\n",
        "from oauth2client.client import GoogleCredentials\n",
        "\n",
        "auth.authenticate_user()\n",
        "gauth = GoogleAuth()\n",
        "gauth.credentials = GoogleCredentials.get_application_default()\n",
        "drive = GoogleDrive(gauth)"
      ]
    },
    {
      "cell_type": "code",
      "execution_count": null,
      "metadata": {
        "id": "UScKyL2TjARW"
      },
      "outputs": [],
      "source": [
        "# https://docs.google.com/spreadsheets/d/1SZddhHzdrSeaZD0wP4-96SQYOAFtQUfX/edit?usp=sharing&ouid=117953154631179589875&rtpof=true&sd=true\n",
        "id = \"1SZddhHzdrSeaZD0wP4-96SQYOAFtQUfX\"\n",
        "file = drive.CreateFile({'id':id}) \n",
        "file.GetContentFile('speed_dating.xlsx')"
      ]
    },
    {
      "cell_type": "markdown",
      "metadata": {
        "id": "a6bG_gAPi0Me"
      },
      "source": [
        "# Part 1: Data Exploration"
      ]
    },
    {
      "cell_type": "markdown",
      "metadata": {
        "id": "bspx2K6fi0Me"
      },
      "source": [
        "### Part 1.1: Understand the Raw Dataset"
      ]
    },
    {
      "cell_type": "code",
      "execution_count": null,
      "metadata": {
        "colab": {
          "base_uri": "https://localhost:8080/",
          "height": 369
        },
        "id": "kuTHKjk-i0Mf",
        "outputId": "ecd6d40e-4418-4734-a87e-74a7c2a34112"
      },
      "outputs": [
        {
          "output_type": "stream",
          "name": "stderr",
          "text": [
            "[nltk_data] Downloading package punkt to /root/nltk_data...\n",
            "[nltk_data]   Unzipping tokenizers/punkt.zip.\n",
            "[nltk_data] Downloading package stopwords to /root/nltk_data...\n",
            "[nltk_data]   Unzipping corpora/stopwords.zip.\n"
          ]
        },
        {
          "output_type": "execute_result",
          "data": {
            "text/plain": [
              "   iid   id  gender  idg  condtn  wave  round  position  positin1  order  ...  \\\n",
              "0  1.0  1.0     0.0  1.0     1.0   1.0   10.0       7.0       NaN    4.0  ...   \n",
              "1  1.0  1.0     0.0  1.0     1.0   1.0   10.0       7.0       NaN    3.0  ...   \n",
              "2  1.0  1.0     0.0  1.0     1.0   1.0   10.0       7.0       NaN   10.0  ...   \n",
              "3  1.0  1.0     0.0  1.0     1.0   1.0   10.0       7.0       NaN    5.0  ...   \n",
              "4  1.0  1.0     0.0  1.0     1.0   1.0   10.0       7.0       NaN    7.0  ...   \n",
              "\n",
              "   attr3_3  sinc3_3  intel3_3  fun3_3  amb3_3  attr5_3  sinc5_3  intel5_3  \\\n",
              "0      5.0      7.0       7.0     7.0     7.0      NaN      NaN       NaN   \n",
              "1      5.0      7.0       7.0     7.0     7.0      NaN      NaN       NaN   \n",
              "2      5.0      7.0       7.0     7.0     7.0      NaN      NaN       NaN   \n",
              "3      5.0      7.0       7.0     7.0     7.0      NaN      NaN       NaN   \n",
              "4      5.0      7.0       7.0     7.0     7.0      NaN      NaN       NaN   \n",
              "\n",
              "   fun5_3  amb5_3  \n",
              "0     NaN     NaN  \n",
              "1     NaN     NaN  \n",
              "2     NaN     NaN  \n",
              "3     NaN     NaN  \n",
              "4     NaN     NaN  \n",
              "\n",
              "[5 rows x 195 columns]"
            ],
            "text/html": [
              "\n",
              "  <div id=\"df-69b2d34e-5b06-4842-9e75-6f66ec8a700b\">\n",
              "    <div class=\"colab-df-container\">\n",
              "      <div>\n",
              "<style scoped>\n",
              "    .dataframe tbody tr th:only-of-type {\n",
              "        vertical-align: middle;\n",
              "    }\n",
              "\n",
              "    .dataframe tbody tr th {\n",
              "        vertical-align: top;\n",
              "    }\n",
              "\n",
              "    .dataframe thead th {\n",
              "        text-align: right;\n",
              "    }\n",
              "</style>\n",
              "<table border=\"1\" class=\"dataframe\">\n",
              "  <thead>\n",
              "    <tr style=\"text-align: right;\">\n",
              "      <th></th>\n",
              "      <th>iid</th>\n",
              "      <th>id</th>\n",
              "      <th>gender</th>\n",
              "      <th>idg</th>\n",
              "      <th>condtn</th>\n",
              "      <th>wave</th>\n",
              "      <th>round</th>\n",
              "      <th>position</th>\n",
              "      <th>positin1</th>\n",
              "      <th>order</th>\n",
              "      <th>...</th>\n",
              "      <th>attr3_3</th>\n",
              "      <th>sinc3_3</th>\n",
              "      <th>intel3_3</th>\n",
              "      <th>fun3_3</th>\n",
              "      <th>amb3_3</th>\n",
              "      <th>attr5_3</th>\n",
              "      <th>sinc5_3</th>\n",
              "      <th>intel5_3</th>\n",
              "      <th>fun5_3</th>\n",
              "      <th>amb5_3</th>\n",
              "    </tr>\n",
              "  </thead>\n",
              "  <tbody>\n",
              "    <tr>\n",
              "      <th>0</th>\n",
              "      <td>1.0</td>\n",
              "      <td>1.0</td>\n",
              "      <td>0.0</td>\n",
              "      <td>1.0</td>\n",
              "      <td>1.0</td>\n",
              "      <td>1.0</td>\n",
              "      <td>10.0</td>\n",
              "      <td>7.0</td>\n",
              "      <td>NaN</td>\n",
              "      <td>4.0</td>\n",
              "      <td>...</td>\n",
              "      <td>5.0</td>\n",
              "      <td>7.0</td>\n",
              "      <td>7.0</td>\n",
              "      <td>7.0</td>\n",
              "      <td>7.0</td>\n",
              "      <td>NaN</td>\n",
              "      <td>NaN</td>\n",
              "      <td>NaN</td>\n",
              "      <td>NaN</td>\n",
              "      <td>NaN</td>\n",
              "    </tr>\n",
              "    <tr>\n",
              "      <th>1</th>\n",
              "      <td>1.0</td>\n",
              "      <td>1.0</td>\n",
              "      <td>0.0</td>\n",
              "      <td>1.0</td>\n",
              "      <td>1.0</td>\n",
              "      <td>1.0</td>\n",
              "      <td>10.0</td>\n",
              "      <td>7.0</td>\n",
              "      <td>NaN</td>\n",
              "      <td>3.0</td>\n",
              "      <td>...</td>\n",
              "      <td>5.0</td>\n",
              "      <td>7.0</td>\n",
              "      <td>7.0</td>\n",
              "      <td>7.0</td>\n",
              "      <td>7.0</td>\n",
              "      <td>NaN</td>\n",
              "      <td>NaN</td>\n",
              "      <td>NaN</td>\n",
              "      <td>NaN</td>\n",
              "      <td>NaN</td>\n",
              "    </tr>\n",
              "    <tr>\n",
              "      <th>2</th>\n",
              "      <td>1.0</td>\n",
              "      <td>1.0</td>\n",
              "      <td>0.0</td>\n",
              "      <td>1.0</td>\n",
              "      <td>1.0</td>\n",
              "      <td>1.0</td>\n",
              "      <td>10.0</td>\n",
              "      <td>7.0</td>\n",
              "      <td>NaN</td>\n",
              "      <td>10.0</td>\n",
              "      <td>...</td>\n",
              "      <td>5.0</td>\n",
              "      <td>7.0</td>\n",
              "      <td>7.0</td>\n",
              "      <td>7.0</td>\n",
              "      <td>7.0</td>\n",
              "      <td>NaN</td>\n",
              "      <td>NaN</td>\n",
              "      <td>NaN</td>\n",
              "      <td>NaN</td>\n",
              "      <td>NaN</td>\n",
              "    </tr>\n",
              "    <tr>\n",
              "      <th>3</th>\n",
              "      <td>1.0</td>\n",
              "      <td>1.0</td>\n",
              "      <td>0.0</td>\n",
              "      <td>1.0</td>\n",
              "      <td>1.0</td>\n",
              "      <td>1.0</td>\n",
              "      <td>10.0</td>\n",
              "      <td>7.0</td>\n",
              "      <td>NaN</td>\n",
              "      <td>5.0</td>\n",
              "      <td>...</td>\n",
              "      <td>5.0</td>\n",
              "      <td>7.0</td>\n",
              "      <td>7.0</td>\n",
              "      <td>7.0</td>\n",
              "      <td>7.0</td>\n",
              "      <td>NaN</td>\n",
              "      <td>NaN</td>\n",
              "      <td>NaN</td>\n",
              "      <td>NaN</td>\n",
              "      <td>NaN</td>\n",
              "    </tr>\n",
              "    <tr>\n",
              "      <th>4</th>\n",
              "      <td>1.0</td>\n",
              "      <td>1.0</td>\n",
              "      <td>0.0</td>\n",
              "      <td>1.0</td>\n",
              "      <td>1.0</td>\n",
              "      <td>1.0</td>\n",
              "      <td>10.0</td>\n",
              "      <td>7.0</td>\n",
              "      <td>NaN</td>\n",
              "      <td>7.0</td>\n",
              "      <td>...</td>\n",
              "      <td>5.0</td>\n",
              "      <td>7.0</td>\n",
              "      <td>7.0</td>\n",
              "      <td>7.0</td>\n",
              "      <td>7.0</td>\n",
              "      <td>NaN</td>\n",
              "      <td>NaN</td>\n",
              "      <td>NaN</td>\n",
              "      <td>NaN</td>\n",
              "      <td>NaN</td>\n",
              "    </tr>\n",
              "  </tbody>\n",
              "</table>\n",
              "<p>5 rows × 195 columns</p>\n",
              "</div>\n",
              "      <button class=\"colab-df-convert\" onclick=\"convertToInteractive('df-69b2d34e-5b06-4842-9e75-6f66ec8a700b')\"\n",
              "              title=\"Convert this dataframe to an interactive table.\"\n",
              "              style=\"display:none;\">\n",
              "        \n",
              "  <svg xmlns=\"http://www.w3.org/2000/svg\" height=\"24px\"viewBox=\"0 0 24 24\"\n",
              "       width=\"24px\">\n",
              "    <path d=\"M0 0h24v24H0V0z\" fill=\"none\"/>\n",
              "    <path d=\"M18.56 5.44l.94 2.06.94-2.06 2.06-.94-2.06-.94-.94-2.06-.94 2.06-2.06.94zm-11 1L8.5 8.5l.94-2.06 2.06-.94-2.06-.94L8.5 2.5l-.94 2.06-2.06.94zm10 10l.94 2.06.94-2.06 2.06-.94-2.06-.94-.94-2.06-.94 2.06-2.06.94z\"/><path d=\"M17.41 7.96l-1.37-1.37c-.4-.4-.92-.59-1.43-.59-.52 0-1.04.2-1.43.59L10.3 9.45l-7.72 7.72c-.78.78-.78 2.05 0 2.83L4 21.41c.39.39.9.59 1.41.59.51 0 1.02-.2 1.41-.59l7.78-7.78 2.81-2.81c.8-.78.8-2.07 0-2.86zM5.41 20L4 18.59l7.72-7.72 1.47 1.35L5.41 20z\"/>\n",
              "  </svg>\n",
              "      </button>\n",
              "      \n",
              "  <style>\n",
              "    .colab-df-container {\n",
              "      display:flex;\n",
              "      flex-wrap:wrap;\n",
              "      gap: 12px;\n",
              "    }\n",
              "\n",
              "    .colab-df-convert {\n",
              "      background-color: #E8F0FE;\n",
              "      border: none;\n",
              "      border-radius: 50%;\n",
              "      cursor: pointer;\n",
              "      display: none;\n",
              "      fill: #1967D2;\n",
              "      height: 32px;\n",
              "      padding: 0 0 0 0;\n",
              "      width: 32px;\n",
              "    }\n",
              "\n",
              "    .colab-df-convert:hover {\n",
              "      background-color: #E2EBFA;\n",
              "      box-shadow: 0px 1px 2px rgba(60, 64, 67, 0.3), 0px 1px 3px 1px rgba(60, 64, 67, 0.15);\n",
              "      fill: #174EA6;\n",
              "    }\n",
              "\n",
              "    [theme=dark] .colab-df-convert {\n",
              "      background-color: #3B4455;\n",
              "      fill: #D2E3FC;\n",
              "    }\n",
              "\n",
              "    [theme=dark] .colab-df-convert:hover {\n",
              "      background-color: #434B5C;\n",
              "      box-shadow: 0px 1px 3px 1px rgba(0, 0, 0, 0.15);\n",
              "      filter: drop-shadow(0px 1px 2px rgba(0, 0, 0, 0.3));\n",
              "      fill: #FFFFFF;\n",
              "    }\n",
              "  </style>\n",
              "\n",
              "      <script>\n",
              "        const buttonEl =\n",
              "          document.querySelector('#df-69b2d34e-5b06-4842-9e75-6f66ec8a700b button.colab-df-convert');\n",
              "        buttonEl.style.display =\n",
              "          google.colab.kernel.accessAllowed ? 'block' : 'none';\n",
              "\n",
              "        async function convertToInteractive(key) {\n",
              "          const element = document.querySelector('#df-69b2d34e-5b06-4842-9e75-6f66ec8a700b');\n",
              "          const dataTable =\n",
              "            await google.colab.kernel.invokeFunction('convertToInteractive',\n",
              "                                                     [key], {});\n",
              "          if (!dataTable) return;\n",
              "\n",
              "          const docLinkHtml = 'Like what you see? Visit the ' +\n",
              "            '<a target=\"_blank\" href=https://colab.research.google.com/notebooks/data_table.ipynb>data table notebook</a>'\n",
              "            + ' to learn more about interactive tables.';\n",
              "          element.innerHTML = '';\n",
              "          dataTable['output_type'] = 'display_data';\n",
              "          await google.colab.output.renderOutput(dataTable, element);\n",
              "          const docLink = document.createElement('div');\n",
              "          docLink.innerHTML = docLinkHtml;\n",
              "          element.appendChild(docLink);\n",
              "        }\n",
              "      </script>\n",
              "    </div>\n",
              "  </div>\n",
              "  "
            ]
          },
          "metadata": {},
          "execution_count": 3
        }
      ],
      "source": [
        "import pandas as pd\n",
        "import numpy as np\n",
        "import matplotlib.pyplot as plt\n",
        "import seaborn as sns\n",
        "import nltk\n",
        "\n",
        "nltk.download('punkt')\n",
        "nltk.download('stopwords')\n",
        "\n",
        "df = pd.read_excel('speed_dating.xlsx')\n",
        "df.head()"
      ]
    },
    {
      "cell_type": "code",
      "execution_count": null,
      "metadata": {
        "colab": {
          "base_uri": "https://localhost:8080/"
        },
        "id": "ht5YOBdx8NLV",
        "outputId": "3e6c2d5b-786d-4f50-f54f-f96b592d18f8"
      },
      "outputs": [
        {
          "output_type": "stream",
          "name": "stdout",
          "text": [
            "<class 'pandas.core.frame.DataFrame'>\n",
            "RangeIndex: 8378 entries, 0 to 8377\n",
            "Columns: 195 entries, iid to amb5_3\n",
            "dtypes: float64(191), object(4)\n",
            "memory usage: 12.5+ MB\n"
          ]
        }
      ],
      "source": [
        "# check data info\n",
        "df.info()"
      ]
    },
    {
      "cell_type": "code",
      "execution_count": null,
      "metadata": {
        "colab": {
          "base_uri": "https://localhost:8080/"
        },
        "id": "ZASeB8_089yA",
        "outputId": "7adbcc42-bc97-40f9-cebb-348d33054a88"
      },
      "outputs": [
        {
          "output_type": "execute_result",
          "data": {
            "text/plain": [
              "iid         551\n",
              "id           22\n",
              "gender        2\n",
              "idg          44\n",
              "condtn        2\n",
              "           ... \n",
              "attr5_3       9\n",
              "sinc5_3       9\n",
              "intel5_3      7\n",
              "fun5_3       10\n",
              "amb5_3        9\n",
              "Length: 195, dtype: int64"
            ]
          },
          "metadata": {},
          "execution_count": 5
        }
      ],
      "source": [
        "# check the unique values for each column\n",
        "df.nunique()"
      ]
    },
    {
      "cell_type": "markdown",
      "metadata": {
        "id": "SsAbAjhvi0Mx"
      },
      "source": [
        "### Part 1.2:  Understand the features"
      ]
    },
    {
      "cell_type": "code",
      "execution_count": null,
      "metadata": {
        "colab": {
          "base_uri": "https://localhost:8080/"
        },
        "id": "_t1xsBp--_0K",
        "outputId": "1a96a686-9762-46ea-f401-444a6ee6c713"
      },
      "outputs": [
        {
          "output_type": "execute_result",
          "data": {
            "text/plain": [
              "iid            0\n",
              "id             1\n",
              "gender         0\n",
              "idg            0\n",
              "condtn         0\n",
              "            ... \n",
              "attr5_3     6362\n",
              "sinc5_3     6362\n",
              "intel5_3    6362\n",
              "fun5_3      6362\n",
              "amb5_3      6362\n",
              "Length: 195, dtype: int64"
            ]
          },
          "metadata": {},
          "execution_count": 6
        }
      ],
      "source": [
        "# check missing values\n",
        "df.isnull().sum()"
      ]
    },
    {
      "cell_type": "markdown",
      "metadata": {
        "id": "aFa4d6t3i0NH"
      },
      "source": [
        "# Part 2: Data Preprocessing"
      ]
    },
    {
      "cell_type": "markdown",
      "source": [
        "## Part 2.1: Data cleaning"
      ],
      "metadata": {
        "id": "E-4v3urgx0w8"
      }
    },
    {
      "cell_type": "code",
      "execution_count": null,
      "metadata": {
        "id": "3sfa2fQx2xXa"
      },
      "outputs": [],
      "source": [
        "# Choose feature base on domain knowledge \n",
        "XY = df[['dec', 'dec_o', 'gender', 'round', 'position', 'order', 'int_corr', 'samerace', 'age_o', 'race_o', 'pf_o_att', 'pf_o_sin', 'pf_o_int', 'pf_o_fun', 'pf_o_amb', 'pf_o_sha', 'age', 'field', 'field_cd', 'undergra', 'mn_sat', 'tuition', 'race', 'imprace', 'imprelig', 'from', 'zipcode', 'income', 'goal', 'date', 'go_out', 'sports', 'tvsports', 'exercise', 'dining', 'museums', 'art', 'hiking', 'gaming', 'clubbing', 'reading', 'tv', 'theater', 'movies', 'concerts', 'music', 'shopping', 'yoga', 'exphappy', 'expnum', 'attr1_1', 'sinc1_1', 'intel1_1', 'fun1_1', 'amb1_1', 'shar1_1', 'attr4_1', 'sinc4_1', 'intel4_1', 'fun4_1', 'amb4_1', 'shar4_1', 'attr2_1', 'sinc2_1', 'intel2_1', 'fun2_1', 'amb2_1', 'shar2_1', 'attr3_1', 'sinc3_1', 'fun3_1', 'intel3_1', 'amb3_1', 'attr5_1', 'sinc5_1', 'intel5_1', 'fun5_1', 'amb5_1']]"
      ]
    },
    {
      "cell_type": "code",
      "execution_count": null,
      "metadata": {
        "colab": {
          "base_uri": "https://localhost:8080/",
          "height": 300
        },
        "id": "lZFFVHUgftso",
        "outputId": "9ca5efce-4775-4395-fe79-298098875212"
      },
      "outputs": [
        {
          "output_type": "execute_result",
          "data": {
            "text/plain": [
              "   dec  dec_o  gender  round  position  order  int_corr  samerace  age_o  \\\n",
              "0  1.0    0.0     0.0   10.0       7.0    4.0      0.14       0.0   27.0   \n",
              "1  1.0    0.0     0.0   10.0       7.0    3.0      0.54       0.0   22.0   \n",
              "2  1.0    1.0     0.0   10.0       7.0   10.0      0.16       1.0   22.0   \n",
              "3  1.0    1.0     0.0   10.0       7.0    5.0      0.61       0.0   23.0   \n",
              "4  1.0    1.0     0.0   10.0       7.0    7.0      0.21       0.0   24.0   \n",
              "\n",
              "   race_o  ...  attr3_1  sinc3_1  fun3_1  intel3_1  amb3_1  attr5_1  sinc5_1  \\\n",
              "0     2.0  ...      6.0      8.0     8.0       8.0     7.0      NaN      NaN   \n",
              "1     2.0  ...      6.0      8.0     8.0       8.0     7.0      NaN      NaN   \n",
              "2     4.0  ...      6.0      8.0     8.0       8.0     7.0      NaN      NaN   \n",
              "3     2.0  ...      6.0      8.0     8.0       8.0     7.0      NaN      NaN   \n",
              "4     3.0  ...      6.0      8.0     8.0       8.0     7.0      NaN      NaN   \n",
              "\n",
              "  intel5_1  fun5_1 amb5_1  \n",
              "0      NaN     NaN    NaN  \n",
              "1      NaN     NaN    NaN  \n",
              "2      NaN     NaN    NaN  \n",
              "3      NaN     NaN    NaN  \n",
              "4      NaN     NaN    NaN  \n",
              "\n",
              "[5 rows x 78 columns]"
            ],
            "text/html": [
              "\n",
              "  <div id=\"df-84394881-8bc1-4af2-ad62-aeb8db16fba1\">\n",
              "    <div class=\"colab-df-container\">\n",
              "      <div>\n",
              "<style scoped>\n",
              "    .dataframe tbody tr th:only-of-type {\n",
              "        vertical-align: middle;\n",
              "    }\n",
              "\n",
              "    .dataframe tbody tr th {\n",
              "        vertical-align: top;\n",
              "    }\n",
              "\n",
              "    .dataframe thead th {\n",
              "        text-align: right;\n",
              "    }\n",
              "</style>\n",
              "<table border=\"1\" class=\"dataframe\">\n",
              "  <thead>\n",
              "    <tr style=\"text-align: right;\">\n",
              "      <th></th>\n",
              "      <th>dec</th>\n",
              "      <th>dec_o</th>\n",
              "      <th>gender</th>\n",
              "      <th>round</th>\n",
              "      <th>position</th>\n",
              "      <th>order</th>\n",
              "      <th>int_corr</th>\n",
              "      <th>samerace</th>\n",
              "      <th>age_o</th>\n",
              "      <th>race_o</th>\n",
              "      <th>...</th>\n",
              "      <th>attr3_1</th>\n",
              "      <th>sinc3_1</th>\n",
              "      <th>fun3_1</th>\n",
              "      <th>intel3_1</th>\n",
              "      <th>amb3_1</th>\n",
              "      <th>attr5_1</th>\n",
              "      <th>sinc5_1</th>\n",
              "      <th>intel5_1</th>\n",
              "      <th>fun5_1</th>\n",
              "      <th>amb5_1</th>\n",
              "    </tr>\n",
              "  </thead>\n",
              "  <tbody>\n",
              "    <tr>\n",
              "      <th>0</th>\n",
              "      <td>1.0</td>\n",
              "      <td>0.0</td>\n",
              "      <td>0.0</td>\n",
              "      <td>10.0</td>\n",
              "      <td>7.0</td>\n",
              "      <td>4.0</td>\n",
              "      <td>0.14</td>\n",
              "      <td>0.0</td>\n",
              "      <td>27.0</td>\n",
              "      <td>2.0</td>\n",
              "      <td>...</td>\n",
              "      <td>6.0</td>\n",
              "      <td>8.0</td>\n",
              "      <td>8.0</td>\n",
              "      <td>8.0</td>\n",
              "      <td>7.0</td>\n",
              "      <td>NaN</td>\n",
              "      <td>NaN</td>\n",
              "      <td>NaN</td>\n",
              "      <td>NaN</td>\n",
              "      <td>NaN</td>\n",
              "    </tr>\n",
              "    <tr>\n",
              "      <th>1</th>\n",
              "      <td>1.0</td>\n",
              "      <td>0.0</td>\n",
              "      <td>0.0</td>\n",
              "      <td>10.0</td>\n",
              "      <td>7.0</td>\n",
              "      <td>3.0</td>\n",
              "      <td>0.54</td>\n",
              "      <td>0.0</td>\n",
              "      <td>22.0</td>\n",
              "      <td>2.0</td>\n",
              "      <td>...</td>\n",
              "      <td>6.0</td>\n",
              "      <td>8.0</td>\n",
              "      <td>8.0</td>\n",
              "      <td>8.0</td>\n",
              "      <td>7.0</td>\n",
              "      <td>NaN</td>\n",
              "      <td>NaN</td>\n",
              "      <td>NaN</td>\n",
              "      <td>NaN</td>\n",
              "      <td>NaN</td>\n",
              "    </tr>\n",
              "    <tr>\n",
              "      <th>2</th>\n",
              "      <td>1.0</td>\n",
              "      <td>1.0</td>\n",
              "      <td>0.0</td>\n",
              "      <td>10.0</td>\n",
              "      <td>7.0</td>\n",
              "      <td>10.0</td>\n",
              "      <td>0.16</td>\n",
              "      <td>1.0</td>\n",
              "      <td>22.0</td>\n",
              "      <td>4.0</td>\n",
              "      <td>...</td>\n",
              "      <td>6.0</td>\n",
              "      <td>8.0</td>\n",
              "      <td>8.0</td>\n",
              "      <td>8.0</td>\n",
              "      <td>7.0</td>\n",
              "      <td>NaN</td>\n",
              "      <td>NaN</td>\n",
              "      <td>NaN</td>\n",
              "      <td>NaN</td>\n",
              "      <td>NaN</td>\n",
              "    </tr>\n",
              "    <tr>\n",
              "      <th>3</th>\n",
              "      <td>1.0</td>\n",
              "      <td>1.0</td>\n",
              "      <td>0.0</td>\n",
              "      <td>10.0</td>\n",
              "      <td>7.0</td>\n",
              "      <td>5.0</td>\n",
              "      <td>0.61</td>\n",
              "      <td>0.0</td>\n",
              "      <td>23.0</td>\n",
              "      <td>2.0</td>\n",
              "      <td>...</td>\n",
              "      <td>6.0</td>\n",
              "      <td>8.0</td>\n",
              "      <td>8.0</td>\n",
              "      <td>8.0</td>\n",
              "      <td>7.0</td>\n",
              "      <td>NaN</td>\n",
              "      <td>NaN</td>\n",
              "      <td>NaN</td>\n",
              "      <td>NaN</td>\n",
              "      <td>NaN</td>\n",
              "    </tr>\n",
              "    <tr>\n",
              "      <th>4</th>\n",
              "      <td>1.0</td>\n",
              "      <td>1.0</td>\n",
              "      <td>0.0</td>\n",
              "      <td>10.0</td>\n",
              "      <td>7.0</td>\n",
              "      <td>7.0</td>\n",
              "      <td>0.21</td>\n",
              "      <td>0.0</td>\n",
              "      <td>24.0</td>\n",
              "      <td>3.0</td>\n",
              "      <td>...</td>\n",
              "      <td>6.0</td>\n",
              "      <td>8.0</td>\n",
              "      <td>8.0</td>\n",
              "      <td>8.0</td>\n",
              "      <td>7.0</td>\n",
              "      <td>NaN</td>\n",
              "      <td>NaN</td>\n",
              "      <td>NaN</td>\n",
              "      <td>NaN</td>\n",
              "      <td>NaN</td>\n",
              "    </tr>\n",
              "  </tbody>\n",
              "</table>\n",
              "<p>5 rows × 78 columns</p>\n",
              "</div>\n",
              "      <button class=\"colab-df-convert\" onclick=\"convertToInteractive('df-84394881-8bc1-4af2-ad62-aeb8db16fba1')\"\n",
              "              title=\"Convert this dataframe to an interactive table.\"\n",
              "              style=\"display:none;\">\n",
              "        \n",
              "  <svg xmlns=\"http://www.w3.org/2000/svg\" height=\"24px\"viewBox=\"0 0 24 24\"\n",
              "       width=\"24px\">\n",
              "    <path d=\"M0 0h24v24H0V0z\" fill=\"none\"/>\n",
              "    <path d=\"M18.56 5.44l.94 2.06.94-2.06 2.06-.94-2.06-.94-.94-2.06-.94 2.06-2.06.94zm-11 1L8.5 8.5l.94-2.06 2.06-.94-2.06-.94L8.5 2.5l-.94 2.06-2.06.94zm10 10l.94 2.06.94-2.06 2.06-.94-2.06-.94-.94-2.06-.94 2.06-2.06.94z\"/><path d=\"M17.41 7.96l-1.37-1.37c-.4-.4-.92-.59-1.43-.59-.52 0-1.04.2-1.43.59L10.3 9.45l-7.72 7.72c-.78.78-.78 2.05 0 2.83L4 21.41c.39.39.9.59 1.41.59.51 0 1.02-.2 1.41-.59l7.78-7.78 2.81-2.81c.8-.78.8-2.07 0-2.86zM5.41 20L4 18.59l7.72-7.72 1.47 1.35L5.41 20z\"/>\n",
              "  </svg>\n",
              "      </button>\n",
              "      \n",
              "  <style>\n",
              "    .colab-df-container {\n",
              "      display:flex;\n",
              "      flex-wrap:wrap;\n",
              "      gap: 12px;\n",
              "    }\n",
              "\n",
              "    .colab-df-convert {\n",
              "      background-color: #E8F0FE;\n",
              "      border: none;\n",
              "      border-radius: 50%;\n",
              "      cursor: pointer;\n",
              "      display: none;\n",
              "      fill: #1967D2;\n",
              "      height: 32px;\n",
              "      padding: 0 0 0 0;\n",
              "      width: 32px;\n",
              "    }\n",
              "\n",
              "    .colab-df-convert:hover {\n",
              "      background-color: #E2EBFA;\n",
              "      box-shadow: 0px 1px 2px rgba(60, 64, 67, 0.3), 0px 1px 3px 1px rgba(60, 64, 67, 0.15);\n",
              "      fill: #174EA6;\n",
              "    }\n",
              "\n",
              "    [theme=dark] .colab-df-convert {\n",
              "      background-color: #3B4455;\n",
              "      fill: #D2E3FC;\n",
              "    }\n",
              "\n",
              "    [theme=dark] .colab-df-convert:hover {\n",
              "      background-color: #434B5C;\n",
              "      box-shadow: 0px 1px 3px 1px rgba(0, 0, 0, 0.15);\n",
              "      filter: drop-shadow(0px 1px 2px rgba(0, 0, 0, 0.3));\n",
              "      fill: #FFFFFF;\n",
              "    }\n",
              "  </style>\n",
              "\n",
              "      <script>\n",
              "        const buttonEl =\n",
              "          document.querySelector('#df-84394881-8bc1-4af2-ad62-aeb8db16fba1 button.colab-df-convert');\n",
              "        buttonEl.style.display =\n",
              "          google.colab.kernel.accessAllowed ? 'block' : 'none';\n",
              "\n",
              "        async function convertToInteractive(key) {\n",
              "          const element = document.querySelector('#df-84394881-8bc1-4af2-ad62-aeb8db16fba1');\n",
              "          const dataTable =\n",
              "            await google.colab.kernel.invokeFunction('convertToInteractive',\n",
              "                                                     [key], {});\n",
              "          if (!dataTable) return;\n",
              "\n",
              "          const docLinkHtml = 'Like what you see? Visit the ' +\n",
              "            '<a target=\"_blank\" href=https://colab.research.google.com/notebooks/data_table.ipynb>data table notebook</a>'\n",
              "            + ' to learn more about interactive tables.';\n",
              "          element.innerHTML = '';\n",
              "          dataTable['output_type'] = 'display_data';\n",
              "          await google.colab.output.renderOutput(dataTable, element);\n",
              "          const docLink = document.createElement('div');\n",
              "          docLink.innerHTML = docLinkHtml;\n",
              "          element.appendChild(docLink);\n",
              "        }\n",
              "      </script>\n",
              "    </div>\n",
              "  </div>\n",
              "  "
            ]
          },
          "metadata": {},
          "execution_count": 8
        }
      ],
      "source": [
        "XY.head()"
      ]
    },
    {
      "cell_type": "code",
      "execution_count": null,
      "metadata": {
        "colab": {
          "base_uri": "https://localhost:8080/"
        },
        "id": "-GY8GbdSz4hL",
        "outputId": "acea8343-0532-4567-8459-73cc12843902"
      },
      "outputs": [
        {
          "output_type": "execute_result",
          "data": {
            "text/plain": [
              "8378"
            ]
          },
          "metadata": {},
          "execution_count": 9
        }
      ],
      "source": [
        "# drop columns with too much null numbers\n",
        "XYdrop = XY.drop(['field','expnum', 'undergra', 'income', 'mn_sat', 'tuition', 'attr5_1', 'sinc5_1', 'intel5_1', 'fun5_1', 'amb5_1','zipcode', 'sinc4_1', 'intel4_1', 'fun4_1', 'amb4_1', 'shar4_1', 'attr4_1'], axis=1)\n",
        "XYdrop.shape[0]"
      ]
    },
    {
      "cell_type": "code",
      "execution_count": null,
      "metadata": {
        "colab": {
          "base_uri": "https://localhost:8080/"
        },
        "id": "rMW_4Bcw2GOA",
        "outputId": "21ae4d3a-0583-4604-8de7-3e234fcf4c0e"
      },
      "outputs": [
        {
          "output_type": "execute_result",
          "data": {
            "text/plain": [
              "8024"
            ]
          },
          "metadata": {},
          "execution_count": 10
        }
      ],
      "source": [
        "# drop rows with null numbers\n",
        "XYdrop_nonull = XYdrop.dropna()\n",
        "XYdrop_nonull.reset_index(inplace=True, drop=True)\n",
        "XYdrop_nonull.shape[0]\n",
        "# XYdrop_nonull.shape[1]"
      ]
    },
    {
      "cell_type": "markdown",
      "source": [
        "## Part 2.2: Stemming"
      ],
      "metadata": {
        "id": "xpmopTfDvpAU"
      }
    },
    {
      "cell_type": "code",
      "source": [
        "XYdrop_nonull['from'].unique()\n",
        "XYdrop_nonull['from'].nunique()"
      ],
      "metadata": {
        "colab": {
          "base_uri": "https://localhost:8080/"
        },
        "id": "C7Va_MdMwf7A",
        "outputId": "de2be293-fb56-46b1-d83c-3f83875a7f0a"
      },
      "execution_count": null,
      "outputs": [
        {
          "output_type": "execute_result",
          "data": {
            "text/plain": [
              "266"
            ]
          },
          "metadata": {},
          "execution_count": 11
        }
      ]
    },
    {
      "cell_type": "code",
      "source": [
        "# Use nltk's English stopwords.\n",
        "stopwords = nltk.corpus.stopwords.words('english') #stopwords.append(\"n't\")\n",
        "stopwords.append(\"yrs\")\n",
        "stopwords.append(\" \")\n",
        "stopwords.append(\"P\")\n",
        "stopwords.append(\"R\")\n",
        "stopwords.append(\".\")\n",
        "\n",
        "print (\"We use \" + str(len(stopwords)) + \" stop-words from nltk library.\")\n",
        "print (stopwords[:10])\n",
        "#XY['from'].unique()"
      ],
      "metadata": {
        "colab": {
          "base_uri": "https://localhost:8080/"
        },
        "id": "fsKGujh8UZp0",
        "outputId": "38a2113b-5712-4696-f341-b95fa5105e6d"
      },
      "execution_count": null,
      "outputs": [
        {
          "output_type": "stream",
          "name": "stdout",
          "text": [
            "We use 184 stop-words from nltk library.\n",
            "['i', 'me', 'my', 'myself', 'we', 'our', 'ours', 'ourselves', 'you', \"you're\"]\n"
          ]
        }
      ]
    },
    {
      "cell_type": "code",
      "source": [
        "from nltk.stem.snowball import SnowballStemmer\n",
        "# from nltk.stem import WordNetLemmatizer \n",
        "\n",
        "stemmer = SnowballStemmer(\"english\")\n",
        "\n",
        "# tokenization and stemming\n",
        "def tokenization_and_stemming(text):\n",
        "    tokens = []\n",
        "    # exclude stop words and tokenize the document, generate a list of string \n",
        "    for word in nltk.word_tokenize(text):\n",
        "        if word.lower() not in stopwords:\n",
        "            tokens.append(word.lower())\n",
        "\n",
        "    filtered_tokens = []\n",
        "    \n",
        "    # filter out any tokens not containing letters (e.g., numeric tokens, raw punctuation)\n",
        "    for token in tokens:\n",
        "        if token.isalpha():\n",
        "            filtered_tokens.append(token)\n",
        "            \n",
        "    # stemming\n",
        "    stems = [stemmer.stem(t) for t in filtered_tokens]\n",
        "    return stems"
      ],
      "metadata": {
        "id": "Nlp5iiwiMhLm"
      },
      "execution_count": null,
      "outputs": []
    },
    {
      "cell_type": "code",
      "source": [
        "XYdrop_nonull['from'][90:100] = \"california\"\n",
        "\n",
        "for i in range(XYdrop_nonull.shape[0]):\n",
        "  XYdrop_nonull['from'][i] = ''.join(tokenization_and_stemming(XYdrop_nonull['from'][i]))"
      ],
      "metadata": {
        "colab": {
          "base_uri": "https://localhost:8080/"
        },
        "id": "bL1ZlXytnnxo",
        "outputId": "2424417b-0d2e-4955-876c-52db6fbf6cbf"
      },
      "execution_count": null,
      "outputs": [
        {
          "output_type": "stream",
          "name": "stderr",
          "text": [
            "<ipython-input-14-3c62503db0fe>:1: SettingWithCopyWarning: \n",
            "A value is trying to be set on a copy of a slice from a DataFrame\n",
            "\n",
            "See the caveats in the documentation: https://pandas.pydata.org/pandas-docs/stable/user_guide/indexing.html#returning-a-view-versus-a-copy\n",
            "  XYdrop_nonull['from'][90:100] = \"california\"\n",
            "/usr/local/lib/python3.8/dist-packages/pandas/core/series.py:1105: SettingWithCopyWarning: \n",
            "A value is trying to be set on a copy of a slice from a DataFrame\n",
            "\n",
            "See the caveats in the documentation: https://pandas.pydata.org/pandas-docs/stable/user_guide/indexing.html#returning-a-view-versus-a-copy\n",
            "  return self._set_values(indexer, value)\n",
            "<ipython-input-14-3c62503db0fe>:4: SettingWithCopyWarning: \n",
            "A value is trying to be set on a copy of a slice from a DataFrame\n",
            "\n",
            "See the caveats in the documentation: https://pandas.pydata.org/pandas-docs/stable/user_guide/indexing.html#returning-a-view-versus-a-copy\n",
            "  XYdrop_nonull['from'][i] = ''.join(tokenization_and_stemming(XYdrop_nonull['from'][i]))\n"
          ]
        }
      ]
    },
    {
      "cell_type": "code",
      "source": [
        "tokenization_and_stemming(\"I am from NYC\")"
      ],
      "metadata": {
        "colab": {
          "base_uri": "https://localhost:8080/"
        },
        "id": "z5lA983A7DEM",
        "outputId": "59528b73-42e6-4502-9c8b-a47a3b136aa5"
      },
      "execution_count": null,
      "outputs": [
        {
          "output_type": "execute_result",
          "data": {
            "text/plain": [
              "['nyc']"
            ]
          },
          "metadata": {},
          "execution_count": 15
        }
      ]
    },
    {
      "cell_type": "code",
      "source": [
        "XYdrop_nonull['from'].unique()\n",
        "XYdrop_nonull['from'].nunique()"
      ],
      "metadata": {
        "colab": {
          "base_uri": "https://localhost:8080/"
        },
        "id": "Ltcx6EnyokhP",
        "outputId": "d0fb470e-a21d-489c-a0e1-e01c56ccf3f2"
      },
      "execution_count": null,
      "outputs": [
        {
          "output_type": "execute_result",
          "data": {
            "text/plain": [
              "228"
            ]
          },
          "metadata": {},
          "execution_count": 16
        }
      ]
    },
    {
      "cell_type": "code",
      "source": [
        "places = { \n",
        "       'chicago':'illinois', \n",
        "       #'alabama':, \n",
        "       #'connecticut':, \n",
        "       'texa':'texas', \n",
        "       'bowdoincolleg': \"maine\",\n",
        "       'md':'maryland',\n",
        "       'southerncalifornia':'california', \n",
        "       'londonengland':'england', \n",
        "       'palmspringcalifornia':'california',\n",
        "       #'california':, \n",
        "       #'argentina':, \n",
        "       #'england':, \n",
        "       'cincinnatiohio':'ohio', \n",
        "       'miami':'florida',\n",
        "       'milanitali':'italy', \n",
        "       'georgiausa':'georgia', \n",
        "       #'newyork':, \n",
        "       #'washingtondc':, \n",
        "       #'newjersey':,\n",
        "       'annarbormi':'dontknow', \n",
        "       'hongkong':'china', \n",
        "       #'iowa':, \n",
        "       'westchestny':'newyork', \n",
        "       'boston':'massachusetts',\n",
        "       #'michigan':, \n",
        "       'singapor':'singapore', \n",
        "       #'brazil':, \n",
        "       'brandeiunivers':'massachusetts', \n",
        "       'cincinnatioh':'ohio',\n",
        "       'losangel':'california', \n",
        "       #'china':, \n",
        "       'sanfranciscohomeangelundergrad':'california', \n",
        "       #'spain':,\n",
        "       #'israel':, \n",
        "       #'switzerland':, \n",
        "       'itali':'italy', \n",
        "       'philadelphia':'pennsylvania', \n",
        "       'houston':'texas',\n",
        "       'brooklyn':'newyork', \n",
        "       #'florida':, \n",
        "       'tuscaloosaalabama':'alabama', \n",
        "       'albuquerqunm':'newmexico',\n",
        "       'paloaltocalifornia':'california', \n",
        "       #'mexico':, \n",
        "       'torrancca':'california', \n",
        "       'louimo':'dontknow', \n",
        "       'londonuk':'london',\n",
        "       #'minnesota': \n",
        "       #'ohio':, \n",
        "       '':'dontknow', \n",
        "       'washingtonstate':'washington', \n",
        "       #'panama':, \n",
        "       #'arizona':,\n",
        "       'minneapolimn':'minnesota', \n",
        "       'nj':'newjersey',\n",
        "       'sanfrancisco':'california', \n",
        "       #'bangladesh':,\n",
        "       'longisland':'newyork', \n",
        "       'brooklynny':'newyork', \n",
        "       #'india':, \n",
        "       #'canada':, \n",
        "       #'colorado':,\n",
        "       'annarbor':'michigan', \n",
        "       'philippin':'phillippines', \n",
        "       'milwaukewisconsin':'wisconsin', \n",
        "       'franc':'france',\n",
        "       'longislandny':'newyork', \n",
        "       #'puertorico':, \n",
        "       'memphitn':'tennessee', \n",
        "       #'louisiana':, \n",
        "       #'maryland':,\n",
        "       'statenisland':'newyork', \n",
        "       'newyorkny':'newyork', \n",
        "       'massachusett':'massachusetts', \n",
        "       'pougkeepsiny':'newyork',\n",
        "       'sofiabg':'bulgaria', \n",
        "       'greenwichct':'conneticut', \n",
        "       #'taiwan':, \n",
        "       'europ':'dontknow', \n",
        "       #'colombia':, \n",
        "       #'albania':,\n",
        "       'pa':'pennsylvania', \n",
        "       'cherrihillnj':'newyork', \n",
        "       'minneapoli':'minnesota', \n",
        "       'nyc':'newyork', \n",
        "       'ottawacanada':'canada',\n",
        "       'philadelphiapa':'pennsylvania', \n",
        "       'atlantaga':'georgia', \n",
        "       'cleveland':'ohio', \n",
        "       'nycstatenisland':'newyork',\n",
        "       'greec':'greece', \n",
        "       #'northcarolina':, \n",
        "       'statecollegpa':'pennsylvania', \n",
        "       'detroit':'michigan',\n",
        "       'washingtondcmetroregion':'washingtondc', \n",
        "       'berkeleyca':'california', \n",
        "       'buffalony':'newyork',\n",
        "       #'pennsylvania':, \n",
        "       'sandiegoca':'california', \n",
        "       #'uzbekistan':, \n",
        "       #'nebraska':, \n",
        "       'queen':'newyork',\n",
        "       'kansa':'kansas', \n",
        "       'atlanta':'georgia', \n",
        "       #'uruguay':, \n",
        "       #'azerbaijan':, \n",
        "       'losangelca':'california',\n",
        "       'newyorkciti':'newyork', \n",
        "       'rochestny':'newyork', \n",
        "       'taipeitaiwan':'taiwan', \n",
        "       'berkeley':'california',\n",
        "       'northerncalifornia':'california', \n",
        "       'silverspringmd':'maryland', \n",
        "       #'vestal':, \n",
        "       'texaboston':'dontknow',\n",
        "       #'cameroon':, \n",
        "       #'bulgaria':, \n",
        "       'newyorknewjersey':'newyork', \n",
        "       'baltimor':'maryland', \n",
        "       'dc':'washingtondc',\n",
        "       'germani':'germany', \n",
        "       'washdc':'washingtondc', \n",
        "       #'sweden':, \n",
        "       'pittsburgh':'pennsylvania', \n",
        "       'detroitmichiganusa':'michigan',\n",
        "       #'morgan':, \n",
        "       #'virginia':, \n",
        "       #'indiana':, \n",
        "       #'wisconsin':,\n",
        "       'bornmontanaraissouthjerseynrphiladelphia':'dontknow', \n",
        "       'portlandoregon':'oregon',\n",
        "       'seattl':'washington', \n",
        "       'lexington':'massachusetts', \n",
        "       'shanghaichina':'china', \n",
        "       #'chile':,\n",
        "       'torontolondonindia':'dontknow',\n",
        "       #'japan':, \n",
        "       'bouldercolorado':'colorado',\n",
        "       'northernvirginia':'virginia', \n",
        "       'malaysiamassachusett':'dontknow',\n",
        "       'katonahnyrecentboston':'newyork', \n",
        "       'warsawpoland':'poland', \n",
        "       #'washington':, \n",
        "       'toronto':\"canada\",\n",
        "       'czechrepubl':'czechrepublic', \n",
        "       #'siberia':, \n",
        "       'newhopepa':'pennsylvania', \n",
        "       'lasveganevada':'nevada', \n",
        "       #'budapest':,\n",
        "       #'russia':, \n",
        "       'uncc':'dontknow', \n",
        "       #'iceland':, \n",
        "       'internstudent':'dontknow', \n",
        "       #'nepal':,\n",
        "       'northernnewjersey':'newjersey', \n",
        "       'grewnebraska':'nebraska', \n",
        "       'cambridgmassachusett':'massachusetts',\n",
        "       'newdelhiindia':'india',\n",
        "       'waylittlspaceworldcitizen':'dontknow', \n",
        "       'francnewyork':'dontknow',\n",
        "       'tokyotexa':'dontknow', \n",
        "       'eripa':'nigeria', \n",
        "       'westchestnewyork':'newyork', \n",
        "       'greatneckny':'newyork',\n",
        "       'californiawestcoast':'california', \n",
        "       'portland':'oregon', \n",
        "       'new':'dontknow', \n",
        "       'dallatexa':'texas',\n",
        "       'bombayindia':'india', \n",
        "       'paloaltoca':'california', \n",
        "       #'newmexico':, \n",
        "       'manhattan':'newyork',\n",
        "       'californianewyork':'dontknow', \n",
        "       'bronxscienc':'newyork', \n",
        "       'nashvilltn':'tennessee', \n",
        "       #'australia':,\n",
        "       'torontocanada':'canada', \n",
        "       'midwestusa':'dontknow', \n",
        "       #'costarica':, \n",
        "       #'southkorea':'korea',\n",
        "       #'yugoslavia', \n",
        "       'nycsanfrancisco':'california', \n",
        "       #'oregon':, \n",
        "       'sanfranciscoca':'california',\n",
        "       'floridavirginia':'dontknow', \n",
        "       'sanfranciscobayarea':'california', \n",
        "       'hawaiilosangel':'hawaii',\n",
        "       #'korea':, \n",
        "       'pari':'france', \n",
        "       'austintx':'texas', \n",
        "       'tn':'tennessee', \n",
        "       'pittsburghpa':'pennsylvania', \n",
        "       'milanoitali':'italy',\n",
        "       #'poland':, \n",
        "       'burlingtonvermont':'vermont', \n",
        "       'bogotacolombia':'columbia', \n",
        "       'asiasingapor':'singapore',\n",
        "       'santabarbaracalifornia':'california', \n",
        "       'cambridg':'massachusetts', \n",
        "       'ctfltn':'dontknow', \n",
        "       'detroitsuburb':'michigan',\n",
        "       'tokyojapan':'japan', \n",
        "       #'southcarolina':, \n",
        "       'californianewjersey':'dontknow', \n",
        "       #'belgium':,\n",
        "       'westchestcounti':'newyork', \n",
        "       #'romania':, \n",
        "       'southorangnewjersey':'newjersey',\n",
        "       'colombiasouthamerica':'columbia', \n",
        "       'kansacitimissouri':'missouri', \n",
        "       'upstatnewyork':'newyork',\n",
        "       'manilaphilippin':'phillipines', \n",
        "       'work':'dontknow', \n",
        "       'sandiego':'california', \n",
        "       #'hawaii':, \n",
        "       'saltlakeciti':'utah',\n",
        "       'saratogany':'newyork', \n",
        "       'hkg':'china', \n",
        "       'beijchina':'china', \n",
        "       'san':'dontknow', \n",
        "       'borniran':'iran', \n",
        "       #'persia':,\n",
        "       #'indonesia':, \n",
        "       'indianj':'india', \n",
        "       'genovaitali':'italy', \n",
        "       'uk':'england', \n",
        "       'londonnewyork':'dontknow',\n",
        "       'ny':'newyork'\n",
        "}"
      ],
      "metadata": {
        "id": "1QfVa434yCwa"
      },
      "execution_count": null,
      "outputs": []
    },
    {
      "cell_type": "code",
      "source": [
        "for i in range(len(XYdrop_nonull)):\n",
        "  if XYdrop_nonull['from'][i] in places:\n",
        "    XYdrop_nonull['from'][i] = places[XYdrop_nonull['from'][i]]"
      ],
      "metadata": {
        "colab": {
          "base_uri": "https://localhost:8080/"
        },
        "id": "fhWJtNpyypTu",
        "outputId": "26bc9240-f087-4b2b-fed3-181f398e1423"
      },
      "execution_count": null,
      "outputs": [
        {
          "output_type": "stream",
          "name": "stderr",
          "text": [
            "<ipython-input-18-4914cf2f9bf7>:3: SettingWithCopyWarning: \n",
            "A value is trying to be set on a copy of a slice from a DataFrame\n",
            "\n",
            "See the caveats in the documentation: https://pandas.pydata.org/pandas-docs/stable/user_guide/indexing.html#returning-a-view-versus-a-copy\n",
            "  XYdrop_nonull['from'][i] = places[XYdrop_nonull['from'][i]]\n"
          ]
        }
      ]
    },
    {
      "cell_type": "code",
      "source": [
        "XYdrop_nonull['from'].unique()\n",
        "XYdrop_nonull['from'].nunique()"
      ],
      "metadata": {
        "colab": {
          "base_uri": "https://localhost:8080/"
        },
        "id": "hGAhl37rytAQ",
        "outputId": "29baebd8-d90e-4a13-e995-4be03c1de3a7"
      },
      "execution_count": null,
      "outputs": [
        {
          "output_type": "execute_result",
          "data": {
            "text/plain": [
              "92"
            ]
          },
          "metadata": {},
          "execution_count": 19
        }
      ]
    },
    {
      "cell_type": "markdown",
      "source": [
        "## Part 2.3: Encoding"
      ],
      "metadata": {
        "id": "9nsrMTNoxt-X"
      }
    },
    {
      "cell_type": "code",
      "execution_count": null,
      "metadata": {
        "id": "9kbIg2M39yY5"
      },
      "outputs": [],
      "source": [
        "X = XYdrop_nonull.drop(['dec', 'dec_o'], axis=1)\n",
        "cat_cols = X.columns[X.dtypes == 'O']\n",
        "num_cols = X.columns[(X.dtypes == 'float64') | (X.dtypes == 'int64')]"
      ]
    },
    {
      "cell_type": "code",
      "execution_count": null,
      "metadata": {
        "colab": {
          "base_uri": "https://localhost:8080/"
        },
        "id": "4OR2wK-9AP5B",
        "outputId": "b6977ff8-7fd6-40ea-ffe6-c027ee53c851"
      },
      "outputs": [
        {
          "output_type": "execute_result",
          "data": {
            "text/plain": [
              "Index(['from'], dtype='object')"
            ]
          },
          "metadata": {},
          "execution_count": 21
        }
      ],
      "source": [
        "cat_cols"
      ]
    },
    {
      "cell_type": "code",
      "execution_count": null,
      "metadata": {
        "colab": {
          "base_uri": "https://localhost:8080/"
        },
        "id": "89IsyxpiARaH",
        "outputId": "f4f061a6-2043-4789-d8d7-f4454386664a"
      },
      "outputs": [
        {
          "output_type": "execute_result",
          "data": {
            "text/plain": [
              "Index(['gender', 'round', 'position', 'order', 'int_corr', 'samerace', 'age_o',\n",
              "       'race_o', 'pf_o_att', 'pf_o_sin', 'pf_o_int', 'pf_o_fun', 'pf_o_amb',\n",
              "       'pf_o_sha', 'age', 'field_cd', 'race', 'imprace', 'imprelig', 'goal',\n",
              "       'date', 'go_out', 'sports', 'tvsports', 'exercise', 'dining', 'museums',\n",
              "       'art', 'hiking', 'gaming', 'clubbing', 'reading', 'tv', 'theater',\n",
              "       'movies', 'concerts', 'music', 'shopping', 'yoga', 'exphappy',\n",
              "       'attr1_1', 'sinc1_1', 'intel1_1', 'fun1_1', 'amb1_1', 'shar1_1',\n",
              "       'attr2_1', 'sinc2_1', 'intel2_1', 'fun2_1', 'amb2_1', 'shar2_1',\n",
              "       'attr3_1', 'sinc3_1', 'fun3_1', 'intel3_1', 'amb3_1'],\n",
              "      dtype='object')"
            ]
          },
          "metadata": {},
          "execution_count": 22
        }
      ],
      "source": [
        "num_cols"
      ]
    },
    {
      "cell_type": "markdown",
      "source": [
        "### ordinal encoding"
      ],
      "metadata": {
        "id": "b4iVDPF8g4tq"
      }
    },
    {
      "cell_type": "code",
      "execution_count": null,
      "metadata": {
        "id": "6f3JCVj3ouWj"
      },
      "outputs": [],
      "source": [
        "# from sklearn.preprocessing import OrdinalEncoder\n",
        "\n",
        "# categories = ['from']\n",
        "# enc_oe = OrdinalEncoder()\n",
        "# enc_oe.fit(X[categories])\n",
        "# X[categories] = enc_oe.transform(X[categories])\n",
        "# cat_cols = X.columns[X.dtypes == 'O']\n",
        "# num_cols = X.columns[(X.dtypes == 'float64') | (X.dtypes == 'int64')]\n",
        "# cat_cols"
      ]
    },
    {
      "cell_type": "markdown",
      "source": [
        "### feature hasher"
      ],
      "metadata": {
        "id": "dfpCMdFqhC8d"
      }
    },
    {
      "cell_type": "code",
      "source": [
        "from sklearn.feature_extraction import FeatureHasher\n",
        "\n",
        "nf = 4\n",
        "\n",
        "fea_hs = FeatureHasher(n_features=nf, input_type='string')\n",
        "hasherd = fea_hs.fit_transform(X['from'])\n",
        "\n",
        "hash_data = pd.DataFrame(hasherd.toarray(), columns=[f'from_{i}' for i in range(nf)])\n",
        "\n",
        "# keep a copy of husher result\n",
        "hasher_data = pd.concat([X['from'], hash_data], axis=1, ignore_index=False)\n",
        "# hasher_data = hasher_data.drop_duplicates(subset='from',ignore_index=True)\n",
        "print(hasher_data.drop_duplicates(subset='from',ignore_index=True).head())\n",
        "\n",
        "# change the dataset\n",
        "X = pd.concat([X, hash_data], axis=1, ignore_index=False).drop('from',axis=1)\n",
        "print(X.head())\n",
        "\n",
        "cat_cols = X.columns[X.dtypes == 'O']\n",
        "num_cols = X.columns[(X.dtypes == 'float64') | (X.dtypes == 'int64')]"
      ],
      "metadata": {
        "colab": {
          "base_uri": "https://localhost:8080/"
        },
        "id": "EGwUyMx6so6f",
        "outputId": "24d211f2-52b5-4b1c-9a10-aa13f7973da5"
      },
      "execution_count": null,
      "outputs": [
        {
          "output_type": "stream",
          "name": "stdout",
          "text": [
            "          from  from_0  from_1  from_2  from_3\n",
            "0     illinois     1.0    -3.0     0.0     0.0\n",
            "1      alabama     2.0    -1.0     4.0     0.0\n",
            "2  connecticut    -1.0    -4.0     0.0     0.0\n",
            "3        texas     0.0     0.0     1.0     0.0\n",
            "4        maine     0.0    -1.0     1.0     1.0\n",
            "   gender  round  position  order  int_corr  samerace  age_o  race_o  \\\n",
            "0     0.0   10.0       7.0    4.0      0.14       0.0   27.0     2.0   \n",
            "1     0.0   10.0       7.0    3.0      0.54       0.0   22.0     2.0   \n",
            "2     0.0   10.0       7.0   10.0      0.16       1.0   22.0     4.0   \n",
            "3     0.0   10.0       7.0    5.0      0.61       0.0   23.0     2.0   \n",
            "4     0.0   10.0       7.0    7.0      0.21       0.0   24.0     3.0   \n",
            "\n",
            "   pf_o_att  pf_o_sin  ...  shar2_1  attr3_1  sinc3_1  fun3_1  intel3_1  \\\n",
            "0      35.0      20.0  ...      5.0      6.0      8.0     8.0       8.0   \n",
            "1      60.0       0.0  ...      5.0      6.0      8.0     8.0       8.0   \n",
            "2      19.0      18.0  ...      5.0      6.0      8.0     8.0       8.0   \n",
            "3      30.0       5.0  ...      5.0      6.0      8.0     8.0       8.0   \n",
            "4      30.0      10.0  ...      5.0      6.0      8.0     8.0       8.0   \n",
            "\n",
            "   amb3_1  from_0  from_1  from_2  from_3  \n",
            "0     7.0     1.0    -3.0     0.0     0.0  \n",
            "1     7.0     1.0    -3.0     0.0     0.0  \n",
            "2     7.0     1.0    -3.0     0.0     0.0  \n",
            "3     7.0     1.0    -3.0     0.0     0.0  \n",
            "4     7.0     1.0    -3.0     0.0     0.0  \n",
            "\n",
            "[5 rows x 61 columns]\n"
          ]
        }
      ]
    },
    {
      "cell_type": "markdown",
      "source": [
        "### encode labels"
      ],
      "metadata": {
        "id": "gPISFLEmshIX"
      }
    },
    {
      "cell_type": "code",
      "execution_count": null,
      "metadata": {
        "colab": {
          "base_uri": "https://localhost:8080/"
        },
        "id": "Bbsc3MEn93di",
        "outputId": "21b975ad-da5c-4295-d42c-d3b7363630f9"
      },
      "outputs": [
        {
          "output_type": "execute_result",
          "data": {
            "text/plain": [
              "array([2., 3., 1., 0.])"
            ]
          },
          "metadata": {},
          "execution_count": 26
        }
      ],
      "source": [
        "Y = XYdrop_nonull[['dec','dec_o']]\n",
        "Y = Y['dec']*2 + Y['dec_o']*1\n",
        "Y.unique()"
      ]
    },
    {
      "cell_type": "markdown",
      "metadata": {
        "id": "77OjmSl9i0Nf"
      },
      "source": [
        "## Part 2.4: Dataset spliting"
      ]
    },
    {
      "cell_type": "code",
      "execution_count": null,
      "metadata": {
        "colab": {
          "base_uri": "https://localhost:8080/"
        },
        "id": "Uay8Md5li0Nh",
        "outputId": "e503e2c2-36b8-4460-d0d1-9d23b99c7559"
      },
      "outputs": [
        {
          "output_type": "stream",
          "name": "stdout",
          "text": [
            "training data has 6419 observation with 61 features\n",
            "test data has 1605 observation with 61 features\n"
          ]
        }
      ],
      "source": [
        "from sklearn import model_selection\n",
        "from imblearn.over_sampling import RandomOverSampler\n",
        "\n",
        "X_train, X_test, y_train, y_test = model_selection.train_test_split(X, Y, test_size=0.2, stratify = Y, random_state = 0) #stratified sampling\n",
        "\n",
        "print('training data has ' + str(X_train.shape[0]) + ' observation with ' + str(X_train.shape[1]) + ' features')\n",
        "print('test data has ' + str(X_test.shape[0]) + ' observation with ' + str(X_test.shape[1]) + ' features')"
      ]
    },
    {
      "cell_type": "markdown",
      "metadata": {
        "id": "vecyDzf8eXgg"
      },
      "source": [
        "## Part 2.5: Standardize"
      ]
    },
    {
      "cell_type": "code",
      "execution_count": null,
      "metadata": {
        "id": "JuPhtUkJi0NW"
      },
      "outputs": [],
      "source": [
        "from sklearn.preprocessing import StandardScaler\n",
        "scaler = StandardScaler()\n",
        "scaler.fit(X_train[num_cols])\n",
        "X_train[num_cols] = scaler.transform(X_train[num_cols])\n",
        "X_test[num_cols] = scaler.transform(X_test[num_cols])"
      ]
    },
    {
      "cell_type": "code",
      "execution_count": null,
      "metadata": {
        "colab": {
          "base_uri": "https://localhost:8080/",
          "height": 488
        },
        "id": "UydCNgAZ9ajK",
        "outputId": "9e787c12-0767-4434-f204-f77075e10d97"
      },
      "outputs": [
        {
          "output_type": "execute_result",
          "data": {
            "text/plain": [
              "        gender     round  position     order  int_corr  samerace     age_o  \\\n",
              "1313  0.999221  0.249046  1.599316  1.661460 -1.890970  1.215492  0.734327   \n",
              "4118  0.999221  0.944705 -0.926991 -1.457418 -0.630392 -0.822712  1.853692   \n",
              "6859  0.999221 -0.446614  1.057964 -1.273955  0.066243 -0.822712  0.174645   \n",
              "2177  0.999221 -0.214727  0.336162  0.744143 -0.000103  1.215492  0.454486   \n",
              "3275 -1.000779 -1.837933 -1.468342 -1.273955 -2.753471 -0.822712 -0.385038   \n",
              "...        ...       ...       ...       ...       ...       ...       ...   \n",
              "7585  0.999221  1.176592  0.516613  2.211850 -0.099623 -0.822712 -0.105197   \n",
              "1222 -1.000779  0.249046  1.418865 -1.457418  1.824417  1.215492  0.454486   \n",
              "5455  0.999221  0.712819  0.336162  0.560679 -1.327028 -0.822712  2.413375   \n",
              "707   0.999221  0.480932  0.155712  1.477997  0.928744  1.215492  0.174645   \n",
              "3876  0.999221  0.944705  0.877514 -0.540101  0.630186 -0.822712 -0.105197   \n",
              "\n",
              "        race_o  pf_o_att  pf_o_sin  ...   shar2_1   attr3_1   sinc3_1  \\\n",
              "1313 -0.619590 -0.671963  0.372276  ... -0.320253 -0.060548 -2.331395   \n",
              "4118  0.994839  0.215418  1.796879  ... -1.134605  0.660519  1.195477   \n",
              "6859  0.187625 -0.994648 -0.340026  ... -0.320253 -0.060548  1.195477   \n",
              "2177  0.994839 -1.014009  0.302470  ...  0.766093 -1.502680 -2.331395   \n",
              "3275  0.994839 -0.187937  1.796879  ...  1.308452 -0.781614  0.490103   \n",
              "...        ...       ...       ...  ...       ...       ...       ...   \n",
              "7585  0.187625  0.215418  1.084578  ...  1.308452  2.102651  1.195477   \n",
              "1222 -0.619590 -0.187937  0.372276  ... -0.320253  1.381585  1.195477   \n",
              "5455  0.994839 -0.591292 -0.340026  ... -0.320253  0.660519  0.490103   \n",
              "707  -0.619590 -0.994648  0.372276  ... -0.320253  0.660519  0.490103   \n",
              "3876 -1.426804 -0.187937  0.372276  ... -0.320253 -0.060548  1.195477   \n",
              "\n",
              "        fun3_1  intel3_1    amb3_1    from_0    from_1    from_2    from_3  \n",
              "1313 -0.449377 -2.248502 -0.901310 -0.518485  0.841181 -0.047438  0.266430  \n",
              "4118  1.446277  1.472817  0.218610 -1.430307  0.078103 -1.090254  0.266430  \n",
              "6859  0.814392 -0.387843  0.218610  1.305161  0.841181 -0.047438  1.564015  \n",
              "2177 -1.713147 -3.178831 -1.461271  0.393338 -0.684975  0.995378  0.915223  \n",
              "3275  0.814392 -0.387843  0.778571  2.216983 -0.684975  0.995378 -3.626324  \n",
              "...        ...       ...       ...       ...       ...       ...       ...  \n",
              "7585 -1.081262  1.472817  1.338531 -0.518485 -1.448053 -0.047438 -0.382362  \n",
              "1222  0.814392  0.542487  0.778571  0.393338 -0.684975  0.995378  0.915223  \n",
              "5455  0.814392 -0.387843  0.778571  2.216983  0.078103  0.995378 -1.031154  \n",
              "707   0.182507 -0.387843  0.218610  2.216983 -0.684975  0.995378 -3.626324  \n",
              "3876 -1.713147 -1.318172 -0.341350  2.216983 -3.737287 -2.133070  0.915223  \n",
              "\n",
              "[6419 rows x 61 columns]"
            ],
            "text/html": [
              "\n",
              "  <div id=\"df-a97f6f75-208f-4b2d-962d-d88321c7e4c1\">\n",
              "    <div class=\"colab-df-container\">\n",
              "      <div>\n",
              "<style scoped>\n",
              "    .dataframe tbody tr th:only-of-type {\n",
              "        vertical-align: middle;\n",
              "    }\n",
              "\n",
              "    .dataframe tbody tr th {\n",
              "        vertical-align: top;\n",
              "    }\n",
              "\n",
              "    .dataframe thead th {\n",
              "        text-align: right;\n",
              "    }\n",
              "</style>\n",
              "<table border=\"1\" class=\"dataframe\">\n",
              "  <thead>\n",
              "    <tr style=\"text-align: right;\">\n",
              "      <th></th>\n",
              "      <th>gender</th>\n",
              "      <th>round</th>\n",
              "      <th>position</th>\n",
              "      <th>order</th>\n",
              "      <th>int_corr</th>\n",
              "      <th>samerace</th>\n",
              "      <th>age_o</th>\n",
              "      <th>race_o</th>\n",
              "      <th>pf_o_att</th>\n",
              "      <th>pf_o_sin</th>\n",
              "      <th>...</th>\n",
              "      <th>shar2_1</th>\n",
              "      <th>attr3_1</th>\n",
              "      <th>sinc3_1</th>\n",
              "      <th>fun3_1</th>\n",
              "      <th>intel3_1</th>\n",
              "      <th>amb3_1</th>\n",
              "      <th>from_0</th>\n",
              "      <th>from_1</th>\n",
              "      <th>from_2</th>\n",
              "      <th>from_3</th>\n",
              "    </tr>\n",
              "  </thead>\n",
              "  <tbody>\n",
              "    <tr>\n",
              "      <th>1313</th>\n",
              "      <td>0.999221</td>\n",
              "      <td>0.249046</td>\n",
              "      <td>1.599316</td>\n",
              "      <td>1.661460</td>\n",
              "      <td>-1.890970</td>\n",
              "      <td>1.215492</td>\n",
              "      <td>0.734327</td>\n",
              "      <td>-0.619590</td>\n",
              "      <td>-0.671963</td>\n",
              "      <td>0.372276</td>\n",
              "      <td>...</td>\n",
              "      <td>-0.320253</td>\n",
              "      <td>-0.060548</td>\n",
              "      <td>-2.331395</td>\n",
              "      <td>-0.449377</td>\n",
              "      <td>-2.248502</td>\n",
              "      <td>-0.901310</td>\n",
              "      <td>-0.518485</td>\n",
              "      <td>0.841181</td>\n",
              "      <td>-0.047438</td>\n",
              "      <td>0.266430</td>\n",
              "    </tr>\n",
              "    <tr>\n",
              "      <th>4118</th>\n",
              "      <td>0.999221</td>\n",
              "      <td>0.944705</td>\n",
              "      <td>-0.926991</td>\n",
              "      <td>-1.457418</td>\n",
              "      <td>-0.630392</td>\n",
              "      <td>-0.822712</td>\n",
              "      <td>1.853692</td>\n",
              "      <td>0.994839</td>\n",
              "      <td>0.215418</td>\n",
              "      <td>1.796879</td>\n",
              "      <td>...</td>\n",
              "      <td>-1.134605</td>\n",
              "      <td>0.660519</td>\n",
              "      <td>1.195477</td>\n",
              "      <td>1.446277</td>\n",
              "      <td>1.472817</td>\n",
              "      <td>0.218610</td>\n",
              "      <td>-1.430307</td>\n",
              "      <td>0.078103</td>\n",
              "      <td>-1.090254</td>\n",
              "      <td>0.266430</td>\n",
              "    </tr>\n",
              "    <tr>\n",
              "      <th>6859</th>\n",
              "      <td>0.999221</td>\n",
              "      <td>-0.446614</td>\n",
              "      <td>1.057964</td>\n",
              "      <td>-1.273955</td>\n",
              "      <td>0.066243</td>\n",
              "      <td>-0.822712</td>\n",
              "      <td>0.174645</td>\n",
              "      <td>0.187625</td>\n",
              "      <td>-0.994648</td>\n",
              "      <td>-0.340026</td>\n",
              "      <td>...</td>\n",
              "      <td>-0.320253</td>\n",
              "      <td>-0.060548</td>\n",
              "      <td>1.195477</td>\n",
              "      <td>0.814392</td>\n",
              "      <td>-0.387843</td>\n",
              "      <td>0.218610</td>\n",
              "      <td>1.305161</td>\n",
              "      <td>0.841181</td>\n",
              "      <td>-0.047438</td>\n",
              "      <td>1.564015</td>\n",
              "    </tr>\n",
              "    <tr>\n",
              "      <th>2177</th>\n",
              "      <td>0.999221</td>\n",
              "      <td>-0.214727</td>\n",
              "      <td>0.336162</td>\n",
              "      <td>0.744143</td>\n",
              "      <td>-0.000103</td>\n",
              "      <td>1.215492</td>\n",
              "      <td>0.454486</td>\n",
              "      <td>0.994839</td>\n",
              "      <td>-1.014009</td>\n",
              "      <td>0.302470</td>\n",
              "      <td>...</td>\n",
              "      <td>0.766093</td>\n",
              "      <td>-1.502680</td>\n",
              "      <td>-2.331395</td>\n",
              "      <td>-1.713147</td>\n",
              "      <td>-3.178831</td>\n",
              "      <td>-1.461271</td>\n",
              "      <td>0.393338</td>\n",
              "      <td>-0.684975</td>\n",
              "      <td>0.995378</td>\n",
              "      <td>0.915223</td>\n",
              "    </tr>\n",
              "    <tr>\n",
              "      <th>3275</th>\n",
              "      <td>-1.000779</td>\n",
              "      <td>-1.837933</td>\n",
              "      <td>-1.468342</td>\n",
              "      <td>-1.273955</td>\n",
              "      <td>-2.753471</td>\n",
              "      <td>-0.822712</td>\n",
              "      <td>-0.385038</td>\n",
              "      <td>0.994839</td>\n",
              "      <td>-0.187937</td>\n",
              "      <td>1.796879</td>\n",
              "      <td>...</td>\n",
              "      <td>1.308452</td>\n",
              "      <td>-0.781614</td>\n",
              "      <td>0.490103</td>\n",
              "      <td>0.814392</td>\n",
              "      <td>-0.387843</td>\n",
              "      <td>0.778571</td>\n",
              "      <td>2.216983</td>\n",
              "      <td>-0.684975</td>\n",
              "      <td>0.995378</td>\n",
              "      <td>-3.626324</td>\n",
              "    </tr>\n",
              "    <tr>\n",
              "      <th>...</th>\n",
              "      <td>...</td>\n",
              "      <td>...</td>\n",
              "      <td>...</td>\n",
              "      <td>...</td>\n",
              "      <td>...</td>\n",
              "      <td>...</td>\n",
              "      <td>...</td>\n",
              "      <td>...</td>\n",
              "      <td>...</td>\n",
              "      <td>...</td>\n",
              "      <td>...</td>\n",
              "      <td>...</td>\n",
              "      <td>...</td>\n",
              "      <td>...</td>\n",
              "      <td>...</td>\n",
              "      <td>...</td>\n",
              "      <td>...</td>\n",
              "      <td>...</td>\n",
              "      <td>...</td>\n",
              "      <td>...</td>\n",
              "      <td>...</td>\n",
              "    </tr>\n",
              "    <tr>\n",
              "      <th>7585</th>\n",
              "      <td>0.999221</td>\n",
              "      <td>1.176592</td>\n",
              "      <td>0.516613</td>\n",
              "      <td>2.211850</td>\n",
              "      <td>-0.099623</td>\n",
              "      <td>-0.822712</td>\n",
              "      <td>-0.105197</td>\n",
              "      <td>0.187625</td>\n",
              "      <td>0.215418</td>\n",
              "      <td>1.084578</td>\n",
              "      <td>...</td>\n",
              "      <td>1.308452</td>\n",
              "      <td>2.102651</td>\n",
              "      <td>1.195477</td>\n",
              "      <td>-1.081262</td>\n",
              "      <td>1.472817</td>\n",
              "      <td>1.338531</td>\n",
              "      <td>-0.518485</td>\n",
              "      <td>-1.448053</td>\n",
              "      <td>-0.047438</td>\n",
              "      <td>-0.382362</td>\n",
              "    </tr>\n",
              "    <tr>\n",
              "      <th>1222</th>\n",
              "      <td>-1.000779</td>\n",
              "      <td>0.249046</td>\n",
              "      <td>1.418865</td>\n",
              "      <td>-1.457418</td>\n",
              "      <td>1.824417</td>\n",
              "      <td>1.215492</td>\n",
              "      <td>0.454486</td>\n",
              "      <td>-0.619590</td>\n",
              "      <td>-0.187937</td>\n",
              "      <td>0.372276</td>\n",
              "      <td>...</td>\n",
              "      <td>-0.320253</td>\n",
              "      <td>1.381585</td>\n",
              "      <td>1.195477</td>\n",
              "      <td>0.814392</td>\n",
              "      <td>0.542487</td>\n",
              "      <td>0.778571</td>\n",
              "      <td>0.393338</td>\n",
              "      <td>-0.684975</td>\n",
              "      <td>0.995378</td>\n",
              "      <td>0.915223</td>\n",
              "    </tr>\n",
              "    <tr>\n",
              "      <th>5455</th>\n",
              "      <td>0.999221</td>\n",
              "      <td>0.712819</td>\n",
              "      <td>0.336162</td>\n",
              "      <td>0.560679</td>\n",
              "      <td>-1.327028</td>\n",
              "      <td>-0.822712</td>\n",
              "      <td>2.413375</td>\n",
              "      <td>0.994839</td>\n",
              "      <td>-0.591292</td>\n",
              "      <td>-0.340026</td>\n",
              "      <td>...</td>\n",
              "      <td>-0.320253</td>\n",
              "      <td>0.660519</td>\n",
              "      <td>0.490103</td>\n",
              "      <td>0.814392</td>\n",
              "      <td>-0.387843</td>\n",
              "      <td>0.778571</td>\n",
              "      <td>2.216983</td>\n",
              "      <td>0.078103</td>\n",
              "      <td>0.995378</td>\n",
              "      <td>-1.031154</td>\n",
              "    </tr>\n",
              "    <tr>\n",
              "      <th>707</th>\n",
              "      <td>0.999221</td>\n",
              "      <td>0.480932</td>\n",
              "      <td>0.155712</td>\n",
              "      <td>1.477997</td>\n",
              "      <td>0.928744</td>\n",
              "      <td>1.215492</td>\n",
              "      <td>0.174645</td>\n",
              "      <td>-0.619590</td>\n",
              "      <td>-0.994648</td>\n",
              "      <td>0.372276</td>\n",
              "      <td>...</td>\n",
              "      <td>-0.320253</td>\n",
              "      <td>0.660519</td>\n",
              "      <td>0.490103</td>\n",
              "      <td>0.182507</td>\n",
              "      <td>-0.387843</td>\n",
              "      <td>0.218610</td>\n",
              "      <td>2.216983</td>\n",
              "      <td>-0.684975</td>\n",
              "      <td>0.995378</td>\n",
              "      <td>-3.626324</td>\n",
              "    </tr>\n",
              "    <tr>\n",
              "      <th>3876</th>\n",
              "      <td>0.999221</td>\n",
              "      <td>0.944705</td>\n",
              "      <td>0.877514</td>\n",
              "      <td>-0.540101</td>\n",
              "      <td>0.630186</td>\n",
              "      <td>-0.822712</td>\n",
              "      <td>-0.105197</td>\n",
              "      <td>-1.426804</td>\n",
              "      <td>-0.187937</td>\n",
              "      <td>0.372276</td>\n",
              "      <td>...</td>\n",
              "      <td>-0.320253</td>\n",
              "      <td>-0.060548</td>\n",
              "      <td>1.195477</td>\n",
              "      <td>-1.713147</td>\n",
              "      <td>-1.318172</td>\n",
              "      <td>-0.341350</td>\n",
              "      <td>2.216983</td>\n",
              "      <td>-3.737287</td>\n",
              "      <td>-2.133070</td>\n",
              "      <td>0.915223</td>\n",
              "    </tr>\n",
              "  </tbody>\n",
              "</table>\n",
              "<p>6419 rows × 61 columns</p>\n",
              "</div>\n",
              "      <button class=\"colab-df-convert\" onclick=\"convertToInteractive('df-a97f6f75-208f-4b2d-962d-d88321c7e4c1')\"\n",
              "              title=\"Convert this dataframe to an interactive table.\"\n",
              "              style=\"display:none;\">\n",
              "        \n",
              "  <svg xmlns=\"http://www.w3.org/2000/svg\" height=\"24px\"viewBox=\"0 0 24 24\"\n",
              "       width=\"24px\">\n",
              "    <path d=\"M0 0h24v24H0V0z\" fill=\"none\"/>\n",
              "    <path d=\"M18.56 5.44l.94 2.06.94-2.06 2.06-.94-2.06-.94-.94-2.06-.94 2.06-2.06.94zm-11 1L8.5 8.5l.94-2.06 2.06-.94-2.06-.94L8.5 2.5l-.94 2.06-2.06.94zm10 10l.94 2.06.94-2.06 2.06-.94-2.06-.94-.94-2.06-.94 2.06-2.06.94z\"/><path d=\"M17.41 7.96l-1.37-1.37c-.4-.4-.92-.59-1.43-.59-.52 0-1.04.2-1.43.59L10.3 9.45l-7.72 7.72c-.78.78-.78 2.05 0 2.83L4 21.41c.39.39.9.59 1.41.59.51 0 1.02-.2 1.41-.59l7.78-7.78 2.81-2.81c.8-.78.8-2.07 0-2.86zM5.41 20L4 18.59l7.72-7.72 1.47 1.35L5.41 20z\"/>\n",
              "  </svg>\n",
              "      </button>\n",
              "      \n",
              "  <style>\n",
              "    .colab-df-container {\n",
              "      display:flex;\n",
              "      flex-wrap:wrap;\n",
              "      gap: 12px;\n",
              "    }\n",
              "\n",
              "    .colab-df-convert {\n",
              "      background-color: #E8F0FE;\n",
              "      border: none;\n",
              "      border-radius: 50%;\n",
              "      cursor: pointer;\n",
              "      display: none;\n",
              "      fill: #1967D2;\n",
              "      height: 32px;\n",
              "      padding: 0 0 0 0;\n",
              "      width: 32px;\n",
              "    }\n",
              "\n",
              "    .colab-df-convert:hover {\n",
              "      background-color: #E2EBFA;\n",
              "      box-shadow: 0px 1px 2px rgba(60, 64, 67, 0.3), 0px 1px 3px 1px rgba(60, 64, 67, 0.15);\n",
              "      fill: #174EA6;\n",
              "    }\n",
              "\n",
              "    [theme=dark] .colab-df-convert {\n",
              "      background-color: #3B4455;\n",
              "      fill: #D2E3FC;\n",
              "    }\n",
              "\n",
              "    [theme=dark] .colab-df-convert:hover {\n",
              "      background-color: #434B5C;\n",
              "      box-shadow: 0px 1px 3px 1px rgba(0, 0, 0, 0.15);\n",
              "      filter: drop-shadow(0px 1px 2px rgba(0, 0, 0, 0.3));\n",
              "      fill: #FFFFFF;\n",
              "    }\n",
              "  </style>\n",
              "\n",
              "      <script>\n",
              "        const buttonEl =\n",
              "          document.querySelector('#df-a97f6f75-208f-4b2d-962d-d88321c7e4c1 button.colab-df-convert');\n",
              "        buttonEl.style.display =\n",
              "          google.colab.kernel.accessAllowed ? 'block' : 'none';\n",
              "\n",
              "        async function convertToInteractive(key) {\n",
              "          const element = document.querySelector('#df-a97f6f75-208f-4b2d-962d-d88321c7e4c1');\n",
              "          const dataTable =\n",
              "            await google.colab.kernel.invokeFunction('convertToInteractive',\n",
              "                                                     [key], {});\n",
              "          if (!dataTable) return;\n",
              "\n",
              "          const docLinkHtml = 'Like what you see? Visit the ' +\n",
              "            '<a target=\"_blank\" href=https://colab.research.google.com/notebooks/data_table.ipynb>data table notebook</a>'\n",
              "            + ' to learn more about interactive tables.';\n",
              "          element.innerHTML = '';\n",
              "          dataTable['output_type'] = 'display_data';\n",
              "          await google.colab.output.renderOutput(dataTable, element);\n",
              "          const docLink = document.createElement('div');\n",
              "          docLink.innerHTML = docLinkHtml;\n",
              "          element.appendChild(docLink);\n",
              "        }\n",
              "      </script>\n",
              "    </div>\n",
              "  </div>\n",
              "  "
            ]
          },
          "metadata": {},
          "execution_count": 29
        }
      ],
      "source": [
        "X_train"
      ]
    },
    {
      "cell_type": "markdown",
      "metadata": {
        "id": "q3x9ySX_i0Nd"
      },
      "source": [
        "# Part 3: Model Training and Result Evaluation"
      ]
    },
    {
      "cell_type": "markdown",
      "metadata": {
        "id": "c4UTtCQTi0Nl"
      },
      "source": [
        "### Part 3.1: Model Training"
      ]
    },
    {
      "cell_type": "code",
      "execution_count": null,
      "metadata": {
        "id": "EAhSxINLi0Nl",
        "cellView": "form"
      },
      "outputs": [],
      "source": [
        "#@title build models\n",
        "from sklearn.ensemble import RandomForestClassifier\n",
        "from sklearn.neighbors import KNeighborsClassifier \n",
        "from sklearn.linear_model import LogisticRegression\n",
        "from sklearn.svm import SVC\n",
        "# Logistic Regression\n",
        "classifier_logistic = LogisticRegression()\n",
        "\n",
        "# K Nearest Neighbors\n",
        "classifier_KNN = KNeighborsClassifier()\n",
        "\n",
        "# Random Forest\n",
        "classifier_RF = RandomForestClassifier()\n",
        "\n",
        "# Support Vector Machine\n",
        "classifier_SVM = SVC()"
      ]
    },
    {
      "cell_type": "code",
      "execution_count": null,
      "metadata": {
        "colab": {
          "base_uri": "https://localhost:8080/"
        },
        "id": "Av0IRSoBQ3pe",
        "outputId": "f481ee24-1e70-45a1-f157-3c519768d1fc"
      },
      "outputs": [
        {
          "output_type": "stream",
          "name": "stdout",
          "text": [
            "0.40062305295950157\n"
          ]
        }
      ],
      "source": [
        "# LR\n",
        "classifier_logistic.fit(X_train, y_train)\n",
        "classifier_logistic.predict(X_test)\n",
        "LR_score = classifier_logistic.score(X_test, y_test)\n",
        "print(LR_score)"
      ]
    },
    {
      "cell_type": "code",
      "execution_count": null,
      "metadata": {
        "id": "ehVyvDgZAHBM",
        "colab": {
          "base_uri": "https://localhost:8080/"
        },
        "outputId": "f77a00e2-27e2-4e16-836f-aefcba804d22"
      },
      "outputs": [
        {
          "output_type": "stream",
          "name": "stdout",
          "text": [
            "0.4255451713395639\n"
          ]
        }
      ],
      "source": [
        "# KNN\n",
        "classifier_KNN.fit(X_train, y_train)\n",
        "classifier_KNN.predict(X_test)\n",
        "KNN_score = classifier_KNN.score(X_test, y_test)\n",
        "print(KNN_score)"
      ]
    },
    {
      "cell_type": "code",
      "execution_count": null,
      "metadata": {
        "id": "zpriclKnAUAV",
        "colab": {
          "base_uri": "https://localhost:8080/"
        },
        "outputId": "a2395bc1-b548-4a2a-fdeb-988fb66e1551"
      },
      "outputs": [
        {
          "output_type": "stream",
          "name": "stdout",
          "text": [
            "0.45109034267912773\n"
          ]
        }
      ],
      "source": [
        "# RF\n",
        "classifier_RF.fit(X_train, y_train)\n",
        "classifier_RF.predict(X_test)\n",
        "RF_score = classifier_RF.score(X_test, y_test)\n",
        "print(RF_score)"
      ]
    },
    {
      "cell_type": "code",
      "source": [
        "# SVM\n",
        "classifier_SVM.fit(X_train, y_train)\n",
        "classifier_SVM.predict(X_test)\n",
        "SVM_score = classifier_SVM.score(X_test, y_test)\n",
        "print(SVM_score)"
      ],
      "metadata": {
        "colab": {
          "base_uri": "https://localhost:8080/"
        },
        "id": "Kocc23OF12Tr",
        "outputId": "3314918d-2137-4964-c7df-9928e1671cce"
      },
      "execution_count": null,
      "outputs": [
        {
          "output_type": "stream",
          "name": "stdout",
          "text": [
            "0.43987538940809967\n"
          ]
        }
      ]
    },
    {
      "cell_type": "markdown",
      "source": [
        "## Part 3.2: Result Visualization"
      ],
      "metadata": {
        "id": "zdDUmJKbCx6j"
      }
    },
    {
      "cell_type": "code",
      "execution_count": null,
      "metadata": {
        "id": "o-tP94iFi0OI"
      },
      "outputs": [],
      "source": [
        "from sklearn.metrics import confusion_matrix\n",
        "from sklearn.metrics import classification_report\n",
        "from sklearn.metrics import precision_score\n",
        "from sklearn.metrics import recall_score\n",
        "from sklearn.metrics import plot_confusion_matrix"
      ]
    },
    {
      "cell_type": "code",
      "source": [
        "plot_confusion_matrix(classifier_logistic, X_test, y_test) \n",
        "plot_confusion_matrix(classifier_KNN, X_test, y_test)\n",
        "plot_confusion_matrix(classifier_RF, X_test, y_test)\n",
        "plot_confusion_matrix(classifier_SVM, X_test, y_test)"
      ],
      "metadata": {
        "colab": {
          "base_uri": "https://localhost:8080/",
          "height": 1000
        },
        "id": "_PSgkCsHDG1f",
        "outputId": "a9f263a9-b362-4c3d-d992-7d2486870e59"
      },
      "execution_count": null,
      "outputs": [
        {
          "output_type": "stream",
          "name": "stderr",
          "text": [
            "/usr/local/lib/python3.8/dist-packages/sklearn/utils/deprecation.py:87: FutureWarning: Function plot_confusion_matrix is deprecated; Function `plot_confusion_matrix` is deprecated in 1.0 and will be removed in 1.2. Use one of the class methods: ConfusionMatrixDisplay.from_predictions or ConfusionMatrixDisplay.from_estimator.\n",
            "  warnings.warn(msg, category=FutureWarning)\n",
            "/usr/local/lib/python3.8/dist-packages/sklearn/utils/deprecation.py:87: FutureWarning: Function plot_confusion_matrix is deprecated; Function `plot_confusion_matrix` is deprecated in 1.0 and will be removed in 1.2. Use one of the class methods: ConfusionMatrixDisplay.from_predictions or ConfusionMatrixDisplay.from_estimator.\n",
            "  warnings.warn(msg, category=FutureWarning)\n",
            "/usr/local/lib/python3.8/dist-packages/sklearn/utils/deprecation.py:87: FutureWarning: Function plot_confusion_matrix is deprecated; Function `plot_confusion_matrix` is deprecated in 1.0 and will be removed in 1.2. Use one of the class methods: ConfusionMatrixDisplay.from_predictions or ConfusionMatrixDisplay.from_estimator.\n",
            "  warnings.warn(msg, category=FutureWarning)\n",
            "/usr/local/lib/python3.8/dist-packages/sklearn/utils/deprecation.py:87: FutureWarning: Function plot_confusion_matrix is deprecated; Function `plot_confusion_matrix` is deprecated in 1.0 and will be removed in 1.2. Use one of the class methods: ConfusionMatrixDisplay.from_predictions or ConfusionMatrixDisplay.from_estimator.\n",
            "  warnings.warn(msg, category=FutureWarning)\n"
          ]
        },
        {
          "output_type": "execute_result",
          "data": {
            "text/plain": [
              "<sklearn.metrics._plot.confusion_matrix.ConfusionMatrixDisplay at 0x7f1ce9d8b4c0>"
            ]
          },
          "metadata": {},
          "execution_count": 36
        },
        {
          "output_type": "display_data",
          "data": {
            "text/plain": [
              "<Figure size 432x288 with 2 Axes>"
            ],
            "image/png": "[encoded data removed]"
          },
          "metadata": {
            "needs_background": "light"
          }
        },
        {
          "output_type": "display_data",
          "data": {
            "text/plain": [
              "<Figure size 432x288 with 2 Axes>"
            ],
            "image/png": "[encoded data removed]"
          },
          "metadata": {
            "needs_background": "light"
          }
        },
        {
          "output_type": "display_data",
          "data": {
            "text/plain": [
              "<Figure size 432x288 with 2 Axes>"
            ],
            "image/png": "[encoded data removed]"
          },
          "metadata": {
            "needs_background": "light"
          }
        },
        {
          "output_type": "display_data",
          "data": {
            "text/plain": [
              "<Figure size 432x288 with 2 Axes>"
            ],
            "image/png": "[encoded data removed]"
          },
          "metadata": {
            "needs_background": "light"
          }
        }
      ]
    },
    {
      "cell_type": "markdown",
      "source": [
        "## Part 3.3: Hyperparameter"
      ],
      "metadata": {
        "id": "R0fItx-ooVvF"
      }
    },
    {
      "cell_type": "code",
      "source": [
        "from sklearn.model_selection import GridSearchCV\n",
        "\n",
        "def print_grid_search_metrics(gs):\n",
        "    print (\"Best score: \" + str(gs.best_score_))\n",
        "    print (\"Best parameters set:\")\n",
        "    best_parameters = gs.best_params_\n",
        "    for param_name in sorted(best_parameters.keys()):\n",
        "        print(param_name + ':' + str(best_parameters[param_name]))"
      ],
      "metadata": {
        "id": "beHPfjGiqAdv"
      },
      "execution_count": null,
      "outputs": []
    },
    {
      "cell_type": "code",
      "source": [
        "np.random.seed(99)\n",
        "parameters = {\n",
        "    # 'n_estimators' : np.arange(80,100,10),\n",
        "    # 'max_depth': np.arange(10,20,5)\n",
        "    'n_estimators' : [250],\n",
        "    'max_depth': [20]\n",
        "}\n",
        "Grid_RF = GridSearchCV(RandomForestClassifier(),parameters,scoring='f1',cv=5)\n",
        "Grid_RF.fit(X_train, y_train.values.ravel())"
      ],
      "metadata": {
        "id": "bI8uNvbrqLw7"
      },
      "execution_count": null,
      "outputs": []
    },
    {
      "cell_type": "code",
      "source": [
        "print_grid_search_metrics(Grid_RF)"
      ],
      "metadata": {
        "colab": {
          "base_uri": "https://localhost:8080/"
        },
        "id": "axOAmftHqUms",
        "outputId": "59376be9-b4f9-4f47-834f-201b87f8b095"
      },
      "execution_count": null,
      "outputs": [
        {
          "output_type": "stream",
          "name": "stdout",
          "text": [
            "Best score: nan\n",
            "Best parameters set:\n",
            "max_depth:20\n",
            "n_estimators:250\n"
          ]
        }
      ]
    },
    {
      "cell_type": "code",
      "source": [
        "best_RF_model = Grid_RF.best_estimator_\n",
        "print(RF_score)\n",
        "best_RF_score = best_RF_model.score(X_test, y_test)\n",
        "print(best_RF_score)\n",
        "plot_confusion_matrix(best_RF_model, X_test, y_test) "
      ],
      "metadata": {
        "colab": {
          "base_uri": "https://localhost:8080/",
          "height": 386
        },
        "id": "tXQm8KhsqTTS",
        "outputId": "62250a44-ac64-45aa-b398-82f866c8c79e"
      },
      "execution_count": null,
      "outputs": [
        {
          "output_type": "stream",
          "name": "stdout",
          "text": [
            "0.45109034267912773\n",
            "0.45794392523364486\n"
          ]
        },
        {
          "output_type": "stream",
          "name": "stderr",
          "text": [
            "/usr/local/lib/python3.8/dist-packages/sklearn/utils/deprecation.py:87: FutureWarning: Function plot_confusion_matrix is deprecated; Function `plot_confusion_matrix` is deprecated in 1.0 and will be removed in 1.2. Use one of the class methods: ConfusionMatrixDisplay.from_predictions or ConfusionMatrixDisplay.from_estimator.\n",
            "  warnings.warn(msg, category=FutureWarning)\n"
          ]
        },
        {
          "output_type": "execute_result",
          "data": {
            "text/plain": [
              "<sklearn.metrics._plot.confusion_matrix.ConfusionMatrixDisplay at 0x7f1cea8979d0>"
            ]
          },
          "metadata": {},
          "execution_count": 80
        },
        {
          "output_type": "display_data",
          "data": {
            "text/plain": [
              "<Figure size 432x288 with 2 Axes>"
            ],
            "image/png": "[encoded data removed]"
          },
          "metadata": {
            "needs_background": "light"
          }
        }
      ]
    },
    {
      "cell_type": "markdown",
      "metadata": {
        "id": "uqs41ydLi0O_"
      },
      "source": [
        "# Part 4: Result Analysis and Applications"
      ]
    },
    {
      "cell_type": "markdown",
      "source": [
        "## Part 4.1: Feature importance"
      ],
      "metadata": {
        "id": "5J-xZPEWoifZ"
      }
    },
    {
      "cell_type": "code",
      "execution_count": null,
      "metadata": {
        "id": "z6HNnaBRvE1T"
      },
      "outputs": [],
      "source": [
        "X_RF = pd.concat([X_train, X_test])"
      ]
    },
    {
      "cell_type": "code",
      "execution_count": null,
      "metadata": {
        "id": "MPxUM2lei0PA",
        "colab": {
          "base_uri": "https://localhost:8080/"
        },
        "outputId": "266eab0a-b4db-4764-8aee-27c0fcc280a9"
      },
      "outputs": [
        {
          "output_type": "stream",
          "name": "stdout",
          "text": [
            "Feature importance ranking by Random Forest Model:\n",
            "int_corr : 0.0753\n",
            "order : 0.0697\n",
            "age_o : 0.0583\n",
            "pf_o_sin : 0.0544\n",
            "pf_o_att : 0.0541\n",
            "pf_o_sha : 0.0536\n",
            "pf_o_fun : 0.0524\n",
            "pf_o_amb : 0.0524\n",
            "pf_o_int : 0.0511\n",
            "position : 0.0383\n",
            "race_o : 0.0306\n",
            "samerace : 0.0149\n",
            "age : 0.0103\n",
            "attr2_1 : 0.01\n",
            "attr1_1 : 0.0099\n",
            "hiking : 0.0097\n",
            "sinc1_1 : 0.0096\n",
            "shar1_1 : 0.0095\n",
            "field_cd : 0.0094\n",
            "sinc2_1 : 0.0093\n",
            "amb1_1 : 0.0092\n",
            "fun1_1 : 0.0092\n",
            "amb2_1 : 0.0092\n",
            "exercise : 0.0092\n",
            "tv : 0.0092\n",
            "intel1_1 : 0.0092\n",
            "round : 0.0091\n",
            "shopping : 0.0091\n",
            "clubbing : 0.009\n",
            "yoga : 0.009\n",
            "shar2_1 : 0.009\n",
            "sports : 0.0089\n",
            "fun2_1 : 0.0089\n",
            "concerts : 0.0088\n",
            "tvsports : 0.0087\n",
            "gaming : 0.0086\n",
            "intel2_1 : 0.0085\n",
            "theater : 0.0083\n",
            "art : 0.0082\n",
            "imprelig : 0.0082\n",
            "reading : 0.008\n",
            "imprace : 0.008\n",
            "exphappy : 0.0078\n",
            "museums : 0.0078\n",
            "movies : 0.0076\n",
            "music : 0.0076\n",
            "amb3_1 : 0.0074\n",
            "dining : 0.0074\n",
            "fun3_1 : 0.0073\n",
            "date : 0.0071\n",
            "sinc3_1 : 0.007\n",
            "from_3 : 0.0068\n",
            "attr3_1 : 0.0067\n",
            "from_1 : 0.0063\n",
            "intel3_1 : 0.0062\n",
            "go_out : 0.0062\n",
            "from_0 : 0.0061\n",
            "goal : 0.006\n",
            "from_2 : 0.0054\n",
            "race : 0.0046\n",
            "gender : 0.0022\n"
          ]
        }
      ],
      "source": [
        "# check feature importance of random forest for feature selection\n",
        "forest = RandomForestClassifier()\n",
        "forest.fit(X_RF, Y)\n",
        "\n",
        "importances = forest.feature_importances_\n",
        "\n",
        "indices = np.argsort(importances)[::-1]\n",
        "\n",
        "# Print the feature ranking\n",
        "print(\"Feature importance ranking by Random Forest Model:\")\n",
        "for ind in range(X.shape[1]):\n",
        "  print (\"{0} : {1}\".format(X_RF.columns[indices[ind]],round(importances[indices[ind]], 4)))"
      ]
    },
    {
      "cell_type": "markdown",
      "source": [
        "## Part 4.2: Recommadation System"
      ],
      "metadata": {
        "id": "AV5Fsujvo5Pg"
      }
    },
    {
      "cell_type": "code",
      "source": [
        "X_r = df[['iid', 'gender', 'round', 'position', 'order', 'int_corr', 'samerace', 'age_o', 'race_o', 'pf_o_att', 'pf_o_sin', 'pf_o_int', 'pf_o_fun', 'pf_o_amb', 'pf_o_sha', 'age', 'field', 'field_cd', 'undergra', 'mn_sat', 'tuition', 'race', 'imprace', 'imprelig', 'from', 'zipcode', 'income', 'goal', 'date', 'go_out', 'sports', 'tvsports', 'exercise', 'dining', 'museums', 'art', 'hiking', 'gaming', 'clubbing', 'reading', 'tv', 'theater', 'movies', 'concerts', 'music', 'shopping', 'yoga', 'exphappy', 'expnum', 'attr1_1', 'sinc1_1', 'intel1_1', 'fun1_1', 'amb1_1', 'shar1_1', 'attr4_1', 'sinc4_1', 'intel4_1', 'fun4_1', 'amb4_1', 'shar4_1', 'attr2_1', 'sinc2_1', 'intel2_1', 'fun2_1', 'amb2_1', 'shar2_1', 'attr3_1', 'sinc3_1', 'fun3_1', 'intel3_1', 'amb3_1', 'attr5_1', 'sinc5_1', 'intel5_1', 'fun5_1', 'amb5_1']]\n",
        "X_r = X_r.drop(['field','expnum', 'undergra', 'income', 'mn_sat', 'tuition', 'attr5_1', 'sinc5_1', 'intel5_1', 'fun5_1', 'amb5_1','zipcode', 'sinc4_1', 'intel4_1', 'fun4_1', 'amb4_1', 'shar4_1', 'attr4_1'], axis=1)\n",
        "X_r = X_r.dropna()\n",
        "X_r.reset_index(inplace=True, drop=True)\n",
        "X_r.shape[0]\n",
        "# X_r.drop_duplicates(subset='from', inplace=True)"
      ],
      "metadata": {
        "colab": {
          "base_uri": "https://localhost:8080/"
        },
        "id": "_39kRf_UuXZQ",
        "outputId": "3d126510-d6c9-499f-d18d-db4f4b643d88"
      },
      "execution_count": null,
      "outputs": [
        {
          "output_type": "execute_result",
          "data": {
            "text/plain": [
              "8024"
            ]
          },
          "metadata": {},
          "execution_count": 202
        }
      ]
    },
    {
      "cell_type": "code",
      "source": [
        "X_r = pd.concat([X_r, hash_data], axis=1, ignore_index=False).drop('from',axis=1)"
      ],
      "metadata": {
        "id": "j_-4F2RYAgRG"
      },
      "execution_count": null,
      "outputs": []
    },
    {
      "cell_type": "code",
      "source": [
        "X_index = X_r['iid']\n",
        "X_r = X_r.drop('iid', axis=1)"
      ],
      "metadata": {
        "id": "bxKGPBnOBlWe"
      },
      "execution_count": null,
      "outputs": []
    },
    {
      "cell_type": "code",
      "source": [
        "your_name = 'Helena'\n",
        "gender = 0  #0 for female, 1 for male\n",
        "# 1: 2: 3: 4: 5: 6:\n",
        "X_r['race_o'] = 2\n",
        "X_r['age_o'] = 24\n",
        "#  add up to 100\n",
        "X_r['pf_o_sin'] = 10\n",
        "X_r['pf_o_att'] = 30\n",
        "X_r['pf_o_sha'] = 10\n",
        "X_r['pf_o_fun'] = 20\n",
        "X_r['pf_o_amb'] = 0\n",
        "X_r['pf_o_int'] = 10"
      ],
      "metadata": {
        "id": "bo5EEa_-1GDC"
      },
      "execution_count": null,
      "outputs": []
    },
    {
      "cell_type": "code",
      "source": [
        "num_cols = X_r.columns[(X_r.dtypes == 'float64') | (X_r.dtypes == 'int64')]"
      ],
      "metadata": {
        "id": "PHVfKqj-7kO8"
      },
      "execution_count": null,
      "outputs": []
    },
    {
      "cell_type": "code",
      "source": [
        "X_r[num_cols] = scaler.transform(X_r[num_cols])"
      ],
      "metadata": {
        "id": "aRj7eQ8U3xBt"
      },
      "execution_count": null,
      "outputs": []
    },
    {
      "cell_type": "code",
      "source": [
        "y_pred = best_RF_model.predict(X_r)"
      ],
      "metadata": {
        "id": "H2W1x2wn9GRr"
      },
      "execution_count": null,
      "outputs": []
    },
    {
      "cell_type": "code",
      "source": [
        "save_index = 0\n",
        "count = 0\n",
        "print(your_name + ' is matched with:')\n",
        "for i in range(0,y_pred.shape[0]):\n",
        "  if X_r.iloc[i]['gender'] > 0: #if the user's gender is male, change '>' to '<'\n",
        "    if y_pred[i] == 3:\n",
        "      if X_index[i] != save_index:\n",
        "        print(X_index[i], end='\\t', flush=False)\n",
        "        count += 1\n",
        "      save_index = X_index[i]\n",
        "print()\n",
        "print('Totally ' + str(count) + ' matches.')"
      ],
      "metadata": {
        "colab": {
          "base_uri": "https://localhost:8080/"
        },
        "id": "SQ-u7NqF9gnf",
        "outputId": "02672c30-863e-4352-f195-03d3274c76cc"
      },
      "execution_count": null,
      "outputs": [
        {
          "output_type": "stream",
          "name": "stdout",
          "text": [
            "Helena is matched with:\n",
            "14.0\t19.0\t46.0\t48.0\t49.0\t50.0\t55.0\t67.0\t74.0\t97.0\t99.0\t105.0\t107.0\t109.0\t125.0\t127.0\t128.0\t140.0\t166.0\t169.0\t172.0\t173.0\t217.0\t219.0\t226.0\t243.0\t248.0\t250.0\t279.0\t288.0\t289.0\t316.0\t319.0\t332.0\t335.0\t336.0\t362.0\t366.0\t367.0\t369.0\t371.0\t372.0\t398.0\t400.0\t404.0\t408.0\t409.0\t410.0\t412.0\t422.0\t423.0\t428.0\t429.0\t448.0\t482.0\t489.0\t491.0\t492.0\t533.0\t535.0\t537.0\t538.0\t546.0\t549.0\t550.0\t552.0\t\n",
            "Totally 66 matches.\n"
          ]
        }
      ]
    }
  ],
  "metadata": {
    "colab": {
      "collapsed_sections": [
        "R88Ms0MTi0Ma",
        "TUoI2S7Bi6iR",
        "a6bG_gAPi0Me",
        "aFa4d6t3i0NH",
        "E-4v3urgx0w8",
        "xpmopTfDvpAU",
        "9nsrMTNoxt-X",
        "b4iVDPF8g4tq",
        "77OjmSl9i0Nf",
        "vecyDzf8eXgg",
        "c4UTtCQTi0Nl",
        "zdDUmJKbCx6j",
        "R0fItx-ooVvF",
        "5J-xZPEWoifZ",
        "AV5Fsujvo5Pg"
      ],
      "provenance": []
    },
    "kernelspec": {
      "display_name": "Python 3",
      "name": "python3"
    }
  },
  "nbformat": 4,
  "nbformat_minor": 0
}